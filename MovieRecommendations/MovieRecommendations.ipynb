{
 "cells": [
  {
   "cell_type": "markdown",
   "metadata": {},
   "source": [
    "# Movie Recommendations\n",
    "---"
   ]
  },
  {
   "cell_type": "markdown",
   "metadata": {},
   "source": [
    "### Problem Statement\n",
    "Build a movies recommendation system to recommend relevant movies to users based on their historical interactions "
   ]
  },
  {
   "cell_type": "markdown",
   "metadata": {},
   "source": [
    "### 1. Import Python libraries"
   ]
  },
  {
   "cell_type": "code",
   "execution_count": 284,
   "metadata": {},
   "outputs": [],
   "source": [
    "# import libraries for data manipulation and math calculations\n",
    "import pandas as pd\n",
    "import numpy as np\n",
    "\n",
    "# import libraries for data visualization\n",
    "import matplotlib.pyplot as plt\n",
    "import seaborn as sns\n",
    "\n",
    "# import surprise libraries for recommender systems.\n",
    "from surprise import accuracy\n",
    "# class is used to parse a file containing ratings, data should be in structure - user ; item ; rating\n",
    "from surprise.reader import Reader\n",
    "# class for loading datasets\n",
    "from surprise.dataset import Dataset\n",
    "# for model tuning model hyper-parameters\n",
    "from surprise.model_selection import GridSearchCV\n",
    "# for splitting the rating data in train and test dataset\n",
    "from surprise.model_selection import train_test_split\n",
    "# for implementing similarity based recommendation system\n",
    "from surprise.prediction_algorithms.knns import KNNBasic\n",
    "# for implementing matrix factorization based recommendation system\n",
    "from surprise.prediction_algorithms.matrix_factorization import SVD\n",
    "# for implementing cross validation\n",
    "from surprise.model_selection import KFold\n",
    "\n",
    "from collections import defaultdict, OrderedDict\n",
    "\n",
    "# import warnings library to silence some obsolete elements, such as keyword, function or class, etc.\n",
    "import warnings\n",
    "warnings.filterwarnings(\"ignore\")"
   ]
  },
  {
   "cell_type": "markdown",
   "metadata": {},
   "source": [
    "### 2. Import Dataset"
   ]
  },
  {
   "cell_type": "code",
   "execution_count": 2,
   "metadata": {},
   "outputs": [
    {
     "data": {
      "text/html": [
       "<div>\n",
       "<style scoped>\n",
       "    .dataframe tbody tr th:only-of-type {\n",
       "        vertical-align: middle;\n",
       "    }\n",
       "\n",
       "    .dataframe tbody tr th {\n",
       "        vertical-align: top;\n",
       "    }\n",
       "\n",
       "    .dataframe thead th {\n",
       "        text-align: right;\n",
       "    }\n",
       "</style>\n",
       "<table border=\"1\" class=\"dataframe\">\n",
       "  <thead>\n",
       "    <tr style=\"text-align: right;\">\n",
       "      <th></th>\n",
       "      <th>userId</th>\n",
       "      <th>movieId</th>\n",
       "      <th>rating</th>\n",
       "      <th>timestamp</th>\n",
       "    </tr>\n",
       "  </thead>\n",
       "  <tbody>\n",
       "    <tr>\n",
       "      <th>0</th>\n",
       "      <td>1</td>\n",
       "      <td>31</td>\n",
       "      <td>2.5</td>\n",
       "      <td>1260759144</td>\n",
       "    </tr>\n",
       "    <tr>\n",
       "      <th>1</th>\n",
       "      <td>1</td>\n",
       "      <td>1029</td>\n",
       "      <td>3.0</td>\n",
       "      <td>1260759179</td>\n",
       "    </tr>\n",
       "    <tr>\n",
       "      <th>2</th>\n",
       "      <td>1</td>\n",
       "      <td>1061</td>\n",
       "      <td>3.0</td>\n",
       "      <td>1260759182</td>\n",
       "    </tr>\n",
       "    <tr>\n",
       "      <th>3</th>\n",
       "      <td>1</td>\n",
       "      <td>1129</td>\n",
       "      <td>2.0</td>\n",
       "      <td>1260759185</td>\n",
       "    </tr>\n",
       "    <tr>\n",
       "      <th>4</th>\n",
       "      <td>1</td>\n",
       "      <td>1172</td>\n",
       "      <td>4.0</td>\n",
       "      <td>1260759205</td>\n",
       "    </tr>\n",
       "  </tbody>\n",
       "</table>\n",
       "</div>"
      ],
      "text/plain": [
       "   userId  movieId  rating   timestamp\n",
       "0       1       31     2.5  1260759144\n",
       "1       1     1029     3.0  1260759179\n",
       "2       1     1061     3.0  1260759182\n",
       "3       1     1129     2.0  1260759185\n",
       "4       1     1172     4.0  1260759205"
      ]
     },
     "execution_count": 2,
     "metadata": {},
     "output_type": "execute_result"
    }
   ],
   "source": [
    "df = pd.read_csv(\"dataset/ratings.csv\")\n",
    "df.head()\n",
    "\n",
    "# The ratings dataset contains the following attributes:\n",
    "#   1. userId\n",
    "#   2. movieId\n",
    "#   3. rating\n",
    "#   4. timestamp"
   ]
  },
  {
   "cell_type": "markdown",
   "metadata": {},
   "source": [
    "### 3. Exploratory Data Analysis"
   ]
  },
  {
   "cell_type": "markdown",
   "metadata": {},
   "source": [
    "#### *a. Dataset description*"
   ]
  },
  {
   "cell_type": "code",
   "execution_count": 3,
   "metadata": {},
   "outputs": [
    {
     "name": "stdout",
     "output_type": "stream",
     "text": [
      "<class 'pandas.core.frame.DataFrame'>\n",
      "RangeIndex: 100004 entries, 0 to 100003\n",
      "Data columns (total 4 columns):\n",
      " #   Column     Non-Null Count   Dtype  \n",
      "---  ------     --------------   -----  \n",
      " 0   userId     100004 non-null  int64  \n",
      " 1   movieId    100004 non-null  int64  \n",
      " 2   rating     100004 non-null  float64\n",
      " 3   timestamp  100004 non-null  int64  \n",
      "dtypes: float64(1), int64(3)\n",
      "memory usage: 3.1 MB\n"
     ]
    }
   ],
   "source": [
    "df.info()"
   ]
  },
  {
   "cell_type": "markdown",
   "metadata": {},
   "source": [
    "**Obsevation:**\n",
    "\n",
    "- 1. There are 100,004 observations and 4 columns in the data\n",
    "- 2. All the columns are of numeric data type\n",
    "- 3. The data type of the timestamp column is int64 which is not correct. We can convert this to DateTime format but we don't need timestamp for our analysis. Hence, we can drop this column"
   ]
  },
  {
   "cell_type": "code",
   "execution_count": 4,
   "metadata": {},
   "outputs": [],
   "source": [
    "# Dropping timestamp variable\n",
    "# --------------------------------------\n",
    "\n",
    "df.drop('timestamp', axis = 1, inplace = True)"
   ]
  },
  {
   "cell_type": "markdown",
   "metadata": {},
   "source": [
    "#### *b. Univariate Analysis*"
   ]
  },
  {
   "cell_type": "code",
   "execution_count": 5,
   "metadata": {},
   "outputs": [
    {
     "name": "stdout",
     "output_type": "stream",
     "text": [
      "Variable: userId\n",
      "--------------------------------------\n",
      "Variable name: userId - User Identification Number\n",
      "Variable type: int64\n",
      "Variable range: 670\n",
      "Total number of users: 671\n",
      "Top 10 users with most interactions: [547, 564, 624, 15, 73, 452, 468, 380, 311, 30]\n",
      "\n",
      "plot - Top 10 users with most interactions\n",
      "--------------------------------------\n"
     ]
    },
    {
     "data": {
      "image/png": "[encoded data removed]",
      "text/plain": [
       "<Figure size 1440x360 with 1 Axes>"
      ]
     },
     "metadata": {
      "needs_background": "light"
     },
     "output_type": "display_data"
    }
   ],
   "source": [
    "# userId \n",
    "# --------------------------------------\n",
    "print('Variable: userId')\n",
    "print('--------------------------------------')\n",
    "print('Variable name: userId - User Identification Number')\n",
    "print('Variable type: ' + str(df.userId.dtype))\n",
    "print('Variable range: ' + str(np.ptp(df.userId)))\n",
    "print('Total number of users: ' + str(df.userId.nunique()))\n",
    "print('Top 10 users with most interactions: ' + str(list(df.userId.value_counts().sort_values(ascending = False).head(10).index)))\n",
    "\n",
    "# plot\n",
    "# --------------------------------------\n",
    "\n",
    "print('')\n",
    "print('plot - Top 10 users with most interactions')\n",
    "print('--------------------------------------')\n",
    "\n",
    "# creating x and y axis values\n",
    "xpos = list(df.userId.value_counts().sort_values(ascending = False).head(10).index)\n",
    "userInteractonsCount = list(df.userId.value_counts().sort_values(ascending = False).head(10))\n",
    "\n",
    "plt.figure(figsize=(20,5))\n",
    "plt.title('Top 10 users with most interactions')\n",
    "plt.ylabel('Number of interactions')\n",
    "sns.barplot(x = xpos, y = userInteractonsCount, order = xpos);\n",
    "plt.show()"
   ]
  },
  {
   "cell_type": "code",
   "execution_count": 6,
   "metadata": {},
   "outputs": [
    {
     "name": "stdout",
     "output_type": "stream",
     "text": [
      "Variable: movieId\n",
      "--------------------------------------\n",
      "Variable name: movieId - Movie Identification Number\n",
      "Variable type: int64\n",
      "Variable range: 163948\n",
      "Total number of movies: 9066\n",
      "Top 10 most interacted movies [356, 296, 318, 593, 260, 480, 2571, 1, 527, 589]\n",
      "\n",
      "plot - Top 10 movies with most interactions\n",
      "--------------------------------------\n"
     ]
    },
    {
     "data": {
      "image/png": "[encoded data removed]",
      "text/plain": [
       "<Figure size 1440x360 with 1 Axes>"
      ]
     },
     "metadata": {
      "needs_background": "light"
     },
     "output_type": "display_data"
    }
   ],
   "source": [
    "# movieId \n",
    "# --------------------------------------\n",
    "\n",
    "print('Variable: movieId')\n",
    "print('--------------------------------------')\n",
    "print('Variable name: movieId - Movie Identification Number')\n",
    "print('Variable type: ' + str(df.movieId.dtype))\n",
    "print('Variable range: ' + str(np.ptp(df.movieId)))\n",
    "print('Total number of movies: ' + str(df.movieId.nunique()))\n",
    "print('Top 10 most interacted movies ' + str(list(df.movieId.value_counts().sort_values(ascending=False).head(10).index)))\n",
    "\n",
    "# plot\n",
    "# --------------------------------------\n",
    "\n",
    "print('')\n",
    "print('plot - Top 10 movies with most interactions')\n",
    "print('--------------------------------------')\n",
    "\n",
    "# creating x and y axis values\n",
    "xpos = list(df.movieId.value_counts().sort_values(ascending=False).head(10).index)\n",
    "movieInteractonsCount = list(df.movieId.value_counts().sort_values(ascending=False).head(10))\n",
    "\n",
    "plt.figure(figsize=(20,5))\n",
    "plt.title('Top 10 movies with most interactions')\n",
    "plt.ylabel('Number of interactions')\n",
    "sns.barplot(x = xpos, y = movieInteractonsCount, order = xpos);\n",
    "plt.show()"
   ]
  },
  {
   "cell_type": "code",
   "execution_count": 7,
   "metadata": {},
   "outputs": [
    {
     "name": "stdout",
     "output_type": "stream",
     "text": [
      "Variable: rating\n",
      "--------------------------------------\n",
      "Variable name: rating - Movie rating\n",
      "Variable type: float64\n",
      "Total number of rating options: 10\n",
      "Skew : -0.67\n",
      "\n",
      "plot - Rating Distribution\n",
      "--------------------------------------\n"
     ]
    },
    {
     "data": {
      "image/png": "[encoded data removed]",
      "text/plain": [
       "<Figure size 1440x360 with 1 Axes>"
      ]
     },
     "metadata": {
      "needs_background": "light"
     },
     "output_type": "display_data"
    }
   ],
   "source": [
    "# rating \n",
    "# --------------------------------------\n",
    "print('Variable: rating')\n",
    "print('--------------------------------------')\n",
    "print('Variable name: rating - Movie rating')\n",
    "print('Variable type: ' + str(df.rating.dtype))\n",
    "print('Total number of rating options: ' + str(df.rating.nunique()))\n",
    "print('Skew :',round(df['rating'].skew(),2))\n",
    "\n",
    "# plot\n",
    "# --------------------------------------\n",
    "\n",
    "print('')\n",
    "print('plot - Rating Distribution')\n",
    "print('--------------------------------------')\n",
    "\n",
    "plt.figure(figsize=(20,5))\n",
    "plt.title('Rating Distribution')\n",
    "sns.countplot(x = 'rating', data = df);"
   ]
  },
  {
   "cell_type": "markdown",
   "metadata": {},
   "source": [
    "**Observation**\n",
    "\n",
    "1. Distribution of ratings is left skewed. Most ratings are in the upper side of the rating scale. 3.0 and above\n",
    "2. Options 3.0, 4.0, and 5.0 are the most frequent rating options. \n",
    "3. Rating 4 is the dominant option with 1/3 (28750/100004) of the total number of observations"
   ]
  },
  {
   "cell_type": "markdown",
   "metadata": {},
   "source": [
    "### 4. Data Preprocessing"
   ]
  },
  {
   "cell_type": "markdown",
   "metadata": {},
   "source": [
    "#### *a. Making the dataset into surprise dataset*"
   ]
  },
  {
   "cell_type": "code",
   "execution_count": 8,
   "metadata": {},
   "outputs": [],
   "source": [
    "# Making the dataset into surprise dataset and splitting it into train and test set\n",
    "# --------------------------------------\n",
    "# Below we are loading the rating dataset, which is a pandas dataframe, into a different format called \n",
    "# surprise.dataset.DatasetAutoFolds which is required by this library. To do this we will be using the \n",
    "# classes Reader and Dataset\n",
    "\n",
    "# instantiating Reader scale with expected rating scale\n",
    "reader = Reader(rating_scale = (0, 5))\n",
    "# loading the rating dataset\n",
    "data = Dataset.load_from_df(df[['userId', 'movieId', 'rating']], reader)\n",
    "# splitting the data into train and test dataset\n",
    "trainset, testset = train_test_split(data, test_size = 0.2, random_state=42)"
   ]
  },
  {
   "cell_type": "markdown",
   "metadata": {},
   "source": [
    "### 5. Model Building, Training and Testing"
   ]
  },
  {
   "cell_type": "markdown",
   "metadata": {},
   "source": [
    "#### *a. Rank-Based Recommendation System:*\n",
    "Provide recommendations based on the most popular items. This kind of recommendation system is useful when we have cold start problems. Cold start refers to the issue when we get a new user into the system and the machine is not able to recommend movies to the new user, as the user did not have any historical interactions in the dataset. In those cases, we can use rank-based ecommendation system to recommend movies to the new user.\n"
   ]
  },
  {
   "cell_type": "code",
   "execution_count": 315,
   "metadata": {},
   "outputs": [
    {
     "name": "stdout",
     "output_type": "stream",
     "text": [
      "         avg_rating  rating_count\n",
      "movieId                          \n",
      "1          3.872470           247\n",
      "2          3.401869           107\n",
      "3          3.161017            59\n",
      "4          2.384615            13\n",
      "5          3.267857            56\n",
      "...             ...           ...\n",
      "161944     5.000000             1\n",
      "162376     4.500000             1\n",
      "162542     5.000000             1\n",
      "162672     3.000000             1\n",
      "163949     5.000000             1\n",
      "\n",
      "[9066 rows x 2 columns]\n"
     ]
    }
   ],
   "source": [
    "# Rank-based recommendation systems \n",
    "# --------------------------------------\n",
    "# To build the rank-based recommendation system, we take the 'average' of all the ratings provided to each \n",
    "# movie and then rank them based on their average rating\n",
    "\n",
    "# calculating average ratings\n",
    "average_rating = df.groupby('movieId').mean()['rating']\n",
    "# calculating the count of ratings\n",
    "count_rating = df.groupby('movieId').count()['rating']\n",
    "# making a dataframe with the count and average of ratings\n",
    "final_rating = pd.DataFrame({'avg_rating':average_rating, 'rating_count':count_rating})\n",
    "print(final_rating)"
   ]
  },
  {
   "cell_type": "code",
   "execution_count": 11,
   "metadata": {},
   "outputs": [],
   "source": [
    "# Find the top n movies with 'x' number of interactions for a recommendation\n",
    "# --------------------------------------\n",
    "# Now, let's create a function to find the top n movies for a recommendation based on the average ratings of\n",
    "# movies. We can also add a threshold for a minimum number of interactions for a movie to be considered for \n",
    "# recommendation.\n",
    "\n",
    "def top_n_movies(data, n, min_interaction = 100):\n",
    "    \n",
    "    # finding movies with minimum number of interactions\n",
    "    recommendations = data[data['rating_count'] > min_interaction]\n",
    "    # sorting values w.r.t average rating \n",
    "    recommendations = recommendations.sort_values(by = 'avg_rating', ascending = False)\n",
    "    # return list of top n movies recomendations\n",
    "    return recommendations.index[:n]\n"
   ]
  },
  {
   "cell_type": "code",
   "execution_count": 12,
   "metadata": {},
   "outputs": [
    {
     "data": {
      "text/plain": [
       "[318, 50, 527, 608, 296, 2858, 1196, 260, 1198, 2571]"
      ]
     },
     "execution_count": 12,
     "metadata": {},
     "output_type": "execute_result"
    }
   ],
   "source": [
    "# testing - Rank-based recommendation systems \n",
    "# --------------------------------------\n",
    "\n",
    "top_n_movies(final_rating, 10, 200).to_list()"
   ]
  },
  {
   "cell_type": "markdown",
   "metadata": {},
   "source": [
    "#### *b. User based Collaborative Filtering Recommendation System (User Similarity)* \n",
    "\n",
    "Technique used to predict the items that a user might like on the basis of ratings given to that item by the other users who have similar taste. This allows for serendipitous recommendations; that is, collaborative filtering models can recommend an item to user A based on the interests of a similar user B. "
   ]
  },
  {
   "cell_type": "code",
   "execution_count": 374,
   "metadata": {},
   "outputs": [
    {
     "name": "stdout",
     "output_type": "stream",
     "text": [
      "Baseline Performance\n",
      "# --------------------------------------\n",
      "Baseline RMSE :  0.9925\n"
     ]
    }
   ],
   "source": [
    "# baseline - User Similarity recommendation system \n",
    "# --------------------------------------\n",
    "\n",
    "# defining algorithm using KNN and cosine similarity\n",
    "algo_knn_user = KNNBasic(sim_options = {'name': 'cosine', 'user_based':True}, verbose = False)\n",
    "# train the algorithm on the trainset or fitting the model on train dataset \n",
    "algo_knn_user.fit(trainset)\n",
    "# predict ratings for the testset\n",
    "predictions = algo_knn_user.test(testset)\n",
    "# computing RMSE\n",
    "x = accuracy.rmse(predictions, verbose = False)\n",
    "\n",
    "print('Baseline Performance')\n",
    "print('# --------------------------------------')\n",
    "print('Baseline RMSE : ',  round(x,4))"
   ]
  },
  {
   "cell_type": "code",
   "execution_count": 367,
   "metadata": {},
   "outputs": [
    {
     "name": "stdout",
     "output_type": "stream",
     "text": [
      "Baseline Results\n",
      "# --------------------------------------\n",
      "Baseline prediction : estimate = 3.54  | true_rate = 4\n"
     ]
    }
   ],
   "source": [
    "# testing baseline - User Similarity recommendation system \n",
    "# --------------------------------------\n",
    "\n",
    "# Predicting rating for userId = 4, movieId = 10. True rating value is 4 \n",
    "x =  algo_knn_user.predict(4, 10, r_ui = 4, verbose = False)\n",
    "\n",
    "print('Baseline Results')\n",
    "print('# --------------------------------------')\n",
    "print('Baseline prediction : estimate =',  round(x[3],2), ' | true_rate =', x[2])"
   ]
  },
  {
   "cell_type": "code",
   "execution_count": 349,
   "metadata": {},
   "outputs": [
    {
     "name": "stdout",
     "output_type": "stream",
     "text": [
      "Optimized Results\n",
      "# --------------------------------------\n",
      "Best RMSE :  0.9668\n",
      "Best ombination of parameters :  {'k': 20, 'min_k': 3, 'sim_options': {'name': 'msd', 'user_based': True}}\n"
     ]
    }
   ],
   "source": [
    "# optimizing - User Similarity recommendation system \n",
    "# --------------------------------------\n",
    "\n",
    "# setting up parameter grid to tune the hyperparameters\n",
    "param_grid = {'k': [20, 30, 40], 'min_k': [3, 6, 9],\n",
    "              'sim_options': {'name': ['msd', 'cosine'],\n",
    "                              'user_based': [True]}\n",
    "              }\n",
    "\n",
    "# performing 3-fold cross validation to tune the hyperparameters\n",
    "grid_obj = GridSearchCV(KNNBasic, param_grid, measures = ['rmse', 'mae'], cv = 3, n_jobs = -1)\n",
    "# fitting the data\n",
    "grid_obj.fit(data)\n",
    "\n",
    "print('Optimized Results')\n",
    "print('# --------------------------------------')\n",
    "print('Best RMSE : ', round(grid_obj.best_score['rmse'],4))\n",
    "print('Best ombination of parameters : ', grid_obj.best_params['rmse'])\n"
   ]
  },
  {
   "cell_type": "code",
   "execution_count": 375,
   "metadata": {},
   "outputs": [
    {
     "name": "stdout",
     "output_type": "stream",
     "text": [
      "Optimized Performance\n",
      "# --------------------------------------\n",
      "Baseline RMSE :  0.9548\n"
     ]
    }
   ],
   "source": [
    "# optimized - User Similarity recommendation system  \n",
    "# --------------------------------------\n",
    "\n",
    "# defining algorithm using KNN and cosine similarity with optimal hyperparameter values\n",
    "algo_knn_user_optimized = KNNBasic( k = 20, min_k = 3, verbose = False,\n",
    "                                        sim_options = {'name': 'msd', 'user_based': True})\n",
    "# training the algorithm on the trainset\n",
    "algo_knn_user_optimized.fit(trainset)\n",
    "# predicting ratings for the testset\n",
    "predictions = algo_knn_user_optimized.test(testset)\n",
    "# computing RMSE on testset\n",
    "x = accuracy.rmse(predictions, verbose = False)\n",
    "\n",
    "print('Optimized Performance')\n",
    "print('# --------------------------------------')\n",
    "print('Optimized RMSE : ',  round(x,4))\n"
   ]
  },
  {
   "cell_type": "code",
   "execution_count": 376,
   "metadata": {},
   "outputs": [
    {
     "name": "stdout",
     "output_type": "stream",
     "text": [
      "Optimized Results\n",
      "# --------------------------------------\n",
      "prediction : estimate_rating = 3.63  | true_rating = 4\n"
     ]
    }
   ],
   "source": [
    "# testing optimized - User Similarity recommendation system  \n",
    "# --------------------------------------\n",
    "# Predicting rating for userId = 4, movieId = 10. True rating value is 4 \n",
    "\n",
    "x =  algo_knn_user_optimized.predict(4, 10, r_ui = 4, verbose = False)\n",
    "\n",
    "print('Optimized Results')\n",
    "print('# --------------------------------------')\n",
    "print('prediction : estimate_rating =',  round(x[3],2), ' | true_rating =', x[2])"
   ]
  },
  {
   "cell_type": "markdown",
   "metadata": {},
   "source": [
    "**Observation:**\n",
    "\n",
    "* Best RMSE (after hypertuning parameters) for **User Similarity** is 0.9548.\n",
    "* For tested user/movie, perdicton improved from 3.54 to 3.63 for true rate = 4) \n"
   ]
  },
  {
   "cell_type": "markdown",
   "metadata": {},
   "source": [
    "#### *c. Item based Collaborative Filtering Recommendation System (Item Similarity)*\n",
    "\n",
    "Looks for similar items based on the items users have already liked or positively interacted with."
   ]
  },
  {
   "cell_type": "code",
   "execution_count": 388,
   "metadata": {},
   "outputs": [
    {
     "name": "stdout",
     "output_type": "stream",
     "text": [
      "Baseline Performance\n",
      "# --------------------------------------\n",
      "Baseline RMSE :  0.9904\n"
     ]
    }
   ],
   "source": [
    "# baseline - Item Similarity recommendation system \n",
    "# --------------------------------------\n",
    "\n",
    "# definfing item similarity measure\n",
    "sim_options = {'name': 'cosine', 'user_based': False}\n",
    "# defining Nearest neighbour algorithm\n",
    "algo_knn_item = KNNBasic(sim_options = sim_options, verbose = False)\n",
    "# train the algorithm on the trainset or fitting the model on train dataset \n",
    "algo_knn_item.fit(trainset)\n",
    "# predict ratings for the testset\n",
    "predictions = algo_knn_item.test(testset)\n",
    "# computing RMSE\n",
    "x = accuracy.rmse(predictions, verbose = False)\n",
    "\n",
    "print('Baseline Performance')\n",
    "print('# --------------------------------------')\n",
    "print('Baseline RMSE : ',  round(x, 4))"
   ]
  },
  {
   "cell_type": "code",
   "execution_count": 389,
   "metadata": {},
   "outputs": [
    {
     "name": "stdout",
     "output_type": "stream",
     "text": [
      "Baseline Results\n",
      "# --------------------------------------\n",
      "prediction : estimate_rating = 4.6  | true_rating = 4\n"
     ]
    }
   ],
   "source": [
    "# testing - Item Similarity recommendation system \n",
    "# --------------------------------------\n",
    "\n",
    "# Predicting rating for userId = 4, movieId = 10. True rating value is 4 \n",
    "x = algo_knn_item.predict(4, 10, r_ui = 4, verbose = False)\n",
    "\n",
    "print('Baseline Results')\n",
    "print('# --------------------------------------')\n",
    "print('prediction : estimate_rating =',  round(x[3], 2), ' | true_rating =', x[2])"
   ]
  },
  {
   "cell_type": "code",
   "execution_count": 390,
   "metadata": {},
   "outputs": [
    {
     "name": "stdout",
     "output_type": "stream",
     "text": [
      "Optimized Results\n",
      "# --------------------------------------\n",
      "Best RMSE :  0.9432\n",
      "Best ombination of parameters :  {'k': 30, 'k_min': 3, 'sim_options': {'name': 'msd', 'user_based': False}}\n"
     ]
    }
   ],
   "source": [
    "# optimizing - Item Similarity recommendation system \n",
    "# --------------------------------------\n",
    "\n",
    "# setting up parameter grid to tune the hyperparameters\n",
    "param_grid = {'k':[20, 30], 'k_min':[3], \n",
    "              'sim_options':{'name':['msd','cosine'],\n",
    "                             'user_based':[False]}\n",
    "             }\n",
    "# performing 3-fold cross validation to tune the hyperparameters\n",
    "grid_obj = GridSearchCV(KNNBasic, param_grid, measures = ['rmse', 'mae'], cv = 3, n_jobs = -1)\n",
    "# fitting the data\n",
    "grid_obj.fit(data)\n",
    "# best RMSE score\n",
    "\n",
    "print('Optimized Results')\n",
    "print('# --------------------------------------')\n",
    "print('Best RMSE : ', round(grid_obj.best_score['rmse'],4))\n",
    "print('Best ombination of parameters : ', grid_obj.best_params['rmse'])"
   ]
  },
  {
   "cell_type": "code",
   "execution_count": 378,
   "metadata": {},
   "outputs": [
    {
     "name": "stdout",
     "output_type": "stream",
     "text": [
      "Optimized Performance\n",
      "# --------------------------------------\n",
      "Optimized RMSE :  0.9989\n"
     ]
    }
   ],
   "source": [
    "# optimized - Item Similarity recommendation system  \n",
    "# --------------------------------------\n",
    "\n",
    "# creating an instance of KNNBasic with optimal hyperparameter values\n",
    "algo_knn_item_optimized = KNNBasic(sim_options = {'name':'cosine','user_based': False}, k = 30, \n",
    "                                            min_k = 3, verbose = False)\n",
    "# training the algorithm on the trainset\n",
    "algo_knn_item_optimized.fit(trainset)\n",
    "# predicting ratings for the testset\n",
    "predictions = algo_knn_item_optimized.test(testset)\n",
    "# computing RMSE on testset\n",
    "x = accuracy.rmse(predictions, verbose = False)\n",
    "\n",
    "print('Optimized Performance')\n",
    "print('# --------------------------------------')\n",
    "print('Optimized RMSE : ',  round(x,4))"
   ]
  },
  {
   "cell_type": "code",
   "execution_count": 381,
   "metadata": {},
   "outputs": [
    {
     "name": "stdout",
     "output_type": "stream",
     "text": [
      "Optimized Results\n",
      "# --------------------------------------\n",
      "prediction : estimate_rating = 4.6  | true_rating = 4\n"
     ]
    }
   ],
   "source": [
    "# testing - hypertuned params item similarity based recommendation system\n",
    "# --------------------------------------\n",
    "\n",
    "# rating for userId = 4 and movieId = 10 with the optimized model\n",
    "x = algo_knn_item_optimized.predict(4, 10, r_ui = 4, verbose = False)\n",
    "\n",
    "print('Optimized Results')\n",
    "print('# --------------------------------------')\n",
    "print('prediction : estimate_rating =',  round(x[3],2), ' | true_rating =', x[2])"
   ]
  },
  {
   "cell_type": "markdown",
   "metadata": {},
   "source": [
    "#### *d. Collaborative Filtering - Matrix Factorization using SVD*\n",
    "\n",
    "* Model-based Collaborative Filtering is a personalized recommendation system, the recommendations are \n",
    "based on the past behavior of the user and it is not dependent on any additional information. We use \n",
    "latent features to find recommendations for each user.\n",
    "\n",
    "* Latent Features: The features that are not present in the empirical data but can be inferred from the data"
   ]
  },
  {
   "cell_type": "code",
   "execution_count": 392,
   "metadata": {},
   "outputs": [
    {
     "name": "stdout",
     "output_type": "stream",
     "text": [
      "Baseline Performance\n",
      "# --------------------------------------\n",
      "Baseline RMSE :  0.8965\n"
     ]
    }
   ],
   "source": [
    "# baseline - matrix factorization svd\n",
    "# --------------------------------------\n",
    "\n",
    "# using SVD matrix factorization\n",
    "algo_svd = SVD()\n",
    "# training the algorithm on the trainset\n",
    "algo_svd.fit(trainset)\n",
    "# predicting ratings for the testset\n",
    "predictions = algo_svd.test(testset)\n",
    "# computing RMSE on the testset\n",
    "x = accuracy.rmse(predictions , verbose=False)\n",
    "\n",
    "print('Baseline Performance')\n",
    "print('# --------------------------------------')\n",
    "print('Baseline RMSE : ',  round(x, 4))\n"
   ]
  },
  {
   "cell_type": "code",
   "execution_count": 395,
   "metadata": {},
   "outputs": [
    {
     "name": "stdout",
     "output_type": "stream",
     "text": [
      "Baseline Results\n",
      "# --------------------------------------\n",
      "Baseline prediction : estimate = 3.83  | true_rate = 4\n"
     ]
    }
   ],
   "source": [
    "# testing - baseline matrix factorization svd\n",
    "# --------------------------------------\n",
    "\n",
    "# Predicted rating for an user with userId = 4 and for movieId = 10\n",
    "x = algo_svd.predict(4, 10, r_ui = 4, verbose = False)\n",
    "\n",
    "print('Baseline Results')\n",
    "print('# --------------------------------------')\n",
    "print('Baseline prediction : estimate =',  round(x[3], 2), ' | true_rate =', x[2])"
   ]
  },
  {
   "cell_type": "code",
   "execution_count": 396,
   "metadata": {},
   "outputs": [
    {
     "name": "stdout",
     "output_type": "stream",
     "text": [
      "Optimized Results\n",
      "# --------------------------------------\n",
      "Best RMSE :  0.9432\n",
      "Best ombination of parameters :  {'k': 30, 'k_min': 3, 'sim_options': {'name': 'msd', 'user_based': False}}\n"
     ]
    }
   ],
   "source": [
    "# optimizing - matrix factorization svd\n",
    "# --------------------------------------\n",
    "\n",
    "# set the parameter space to tune\n",
    "param_grid = {'n_epochs': [10, 20, 30], 'lr_all': [0.001, 0.005, 0.01],\n",
    "              'reg_all': [0.2, 0.4, 0.6]}\n",
    "# performing 3-fold gridsearch cross validation\n",
    "gs = GridSearchCV(SVD, param_grid, measures = ['rmse', 'mae'], cv = 3, n_jobs = -1)\n",
    "# fitting data\n",
    "gs.fit(data)\n",
    "\n",
    "print('Optimized Results')\n",
    "print('# --------------------------------------')\n",
    "print('Best RMSE : ', round(grid_obj.best_score['rmse'], 4))\n",
    "print('Best ombination of parameters : ', grid_obj.best_params['rmse'])"
   ]
  },
  {
   "cell_type": "code",
   "execution_count": 397,
   "metadata": {},
   "outputs": [
    {
     "name": "stdout",
     "output_type": "stream",
     "text": [
      "Optimized Performance\n",
      "# --------------------------------------\n",
      "Optimized RMSE :  0.8887\n"
     ]
    }
   ],
   "source": [
    "# optimized - matrix factorization svd \n",
    "# --------------------------------------\n",
    "\n",
    "# building the optimized SVD model using optimal hyperparameter search\n",
    "algo_svd_optimized = SVD(n_epochs=30, lr_all=0.01, reg_all=0.2)\n",
    "# training the algorithm on the trainset\n",
    "algo_svd_optimized.fit(trainset)\n",
    "# predicting ratings for the testset\n",
    "predictions = algo_svd_optimized.test(testset)\n",
    "# computing RMSE\n",
    "x = accuracy.rmse(predictions, verbose = False)\n",
    "\n",
    "print('Optimized Performance')\n",
    "print('# --------------------------------------')\n",
    "print('Optimized RMSE : ',  round(x, 4))"
   ]
  },
  {
   "cell_type": "code",
   "execution_count": 398,
   "metadata": {},
   "outputs": [
    {
     "name": "stdout",
     "output_type": "stream",
     "text": [
      "Optimized Results\n",
      "# --------------------------------------\n",
      "prediction : estimate_rating = 4.04  | true_rating = 4\n"
     ]
    }
   ],
   "source": [
    "# testing - optimized baseline matrix factorization svd\n",
    "# --------------------------------------\n",
    "\n",
    "# Predicted rating for an user with userId = 4 and for movieId = 10\n",
    "x = algo_svd_optimized.predict(4, 10, r_ui = 4, verbose = False)\n",
    "\n",
    "print('Optimized Results')\n",
    "print('# --------------------------------------')\n",
    "print('prediction : estimate_rating =',  round(x[3], 2), ' | true_rating =', x[2])"
   ]
  },
  {
   "cell_type": "markdown",
   "metadata": {},
   "source": [
    "### 6. Results"
   ]
  },
  {
   "cell_type": "markdown",
   "metadata": {},
   "source": [
    "**svd_algo_optimized** may be considered as the best performing model for this dataset.\t\n",
    "\n",
    "It's performing metrics are:\n",
    "\n",
    "1. RMSE: 0.899653\n",
    "2. Precision = 0.732 & Recall = 0.526 at K = 10 (Top 10 recommendations)\n",
    "\n",
    "**Rank-Based Recommendation System** is a good model for all new users who haven’t had interactions with the system yet. And it can coexist with the **svd_algo_optimized** in production environment\n",
    "\n",
    "Find below all details about its performance and some more testing and evaluation"
   ]
  },
  {
   "cell_type": "markdown",
   "metadata": {},
   "source": [
    "#### *a. Selecting the best performing  model base on RMSE results*"
   ]
  },
  {
   "cell_type": "code",
   "execution_count": 440,
   "metadata": {},
   "outputs": [
    {
     "data": {
      "text/html": [
       "<div>\n",
       "<style scoped>\n",
       "    .dataframe tbody tr th:only-of-type {\n",
       "        vertical-align: middle;\n",
       "    }\n",
       "\n",
       "    .dataframe tbody tr th {\n",
       "        vertical-align: top;\n",
       "    }\n",
       "\n",
       "    .dataframe thead th {\n",
       "        text-align: right;\n",
       "    }\n",
       "</style>\n",
       "<table border=\"1\" class=\"dataframe\">\n",
       "  <thead>\n",
       "    <tr style=\"text-align: right;\">\n",
       "      <th></th>\n",
       "      <th>RecomendationSystem</th>\n",
       "      <th>RMSE</th>\n",
       "    </tr>\n",
       "  </thead>\n",
       "  <tbody>\n",
       "    <tr>\n",
       "      <th>5</th>\n",
       "      <td>svd_algo_optimized</td>\n",
       "      <td>0.899653</td>\n",
       "    </tr>\n",
       "    <tr>\n",
       "      <th>4</th>\n",
       "      <td>algo_svd</td>\n",
       "      <td>0.908757</td>\n",
       "    </tr>\n",
       "    <tr>\n",
       "      <th>1</th>\n",
       "      <td>algo_knn_user_optimized</td>\n",
       "      <td>0.965035</td>\n",
       "    </tr>\n",
       "    <tr>\n",
       "      <th>2</th>\n",
       "      <td>algo_knn_item</td>\n",
       "      <td>0.998619</td>\n",
       "    </tr>\n",
       "    <tr>\n",
       "      <th>0</th>\n",
       "      <td>algo_knn_user</td>\n",
       "      <td>1.002954</td>\n",
       "    </tr>\n",
       "    <tr>\n",
       "      <th>3</th>\n",
       "      <td>algo_knn_item_optimized</td>\n",
       "      <td>1.007240</td>\n",
       "    </tr>\n",
       "  </tbody>\n",
       "</table>\n",
       "</div>"
      ],
      "text/plain": [
       "       RecomendationSystem      RMSE\n",
       "5       svd_algo_optimized  0.899653\n",
       "4                 algo_svd  0.908757\n",
       "1  algo_knn_user_optimized  0.965035\n",
       "2            algo_knn_item  0.998619\n",
       "0            algo_knn_user  1.002954\n",
       "3  algo_knn_item_optimized  1.007240"
      ]
     },
     "execution_count": 440,
     "metadata": {},
     "output_type": "execute_result"
    }
   ],
   "source": [
    "\n",
    "models = [algo_knn_user, algo_knn_user_optimized, algo_knn_item, algo_knn_item_optimized, algo_svd, \n",
    "            algo_svd_optimized]\n",
    "\n",
    "scores = []\n",
    "\n",
    "for model in models:\n",
    "    model.fit(trainset)\n",
    "    predictions = model.test(testset)\n",
    "    score = accuracy.rmse(predictions , verbose = False)\n",
    "    scores.append(score)\n",
    "\n",
    "\n",
    "modelsNames = ['algo_knn_user', 'algo_knn_user_optimized', 'algo_knn_item', 'algo_knn_item_optimized', \n",
    "                'algo_svd', 'svd_algo_optimized']\n",
    "\n",
    "dfScore = pd.DataFrame()\n",
    "dfScore['RecomendationSystem'] = modelsNames\n",
    "dfScore['RMSE'] = scores\n",
    "dfScore = dfScore.sort_values(by='RMSE', ascending=True)\n",
    "\n",
    "dfScore\n",
    "\n",
    "# sns.barplot(y = 'RecomendationSystem', x = 'RMSE', data = dfScore)"
   ]
  },
  {
   "cell_type": "markdown",
   "metadata": {},
   "source": [
    "**Comments:** \n",
    "\n",
    "svd_algo_optimized RMSE = 0.899653. This is the model with lowest error.\n",
    "\n",
    "root mean squered error (RMSE): is a measure of  error. In other words, it tells the different from the true rate. *Lower value means best fit / Data is closer to the prediction*"
   ]
  },
  {
   "cell_type": "markdown",
   "metadata": {},
   "source": [
    "#### *b. Precision & Recall at K*"
   ]
  },
  {
   "cell_type": "code",
   "execution_count": 439,
   "metadata": {},
   "outputs": [],
   "source": [
    "# Precision & Recall at K (number of recomendations)\n",
    "# --------------------------------------\n",
    "# Args:\n",
    "#   a. predictions: \n",
    "#   b. k: number of predictions to select \n",
    "#   c. threshold: minimum for ratings to be considered as relevant\n",
    "\n",
    "def precision_recall_at_k(predictions, k = 10, threshold = 3.5):\n",
    "    \"\"\"Return precision and recall at k metrics for each user\"\"\"\n",
    "\n",
    "    # First map the predictions to each user.\n",
    "    user_est_true = defaultdict(list)\n",
    "    \n",
    "    for uid, _, true_r, est, _ in predictions:\n",
    "        user_est_true[uid].append((est, true_r))\n",
    "\n",
    "    precisions = dict()\n",
    "    recalls = dict()\n",
    "\n",
    "    for uid, user_ratings in user_est_true.items():\n",
    "        \n",
    "        # Sort user ratings by estimated value\n",
    "        user_ratings.sort(key = lambda x: x[0], reverse = True)\n",
    "        # Number of relevant items\n",
    "        n_rel = sum((true_r >= threshold) for (_, true_r) in user_ratings)\n",
    "        # Number of recommended items in top k\n",
    "        n_rec_k = sum((est >= threshold) for (est, _) in user_ratings[:k])\n",
    "        # Number of relevant and recommended items in top k\n",
    "        n_rel_and_rec_k = sum(((true_r >= threshold) and (est >= threshold)) for (est, true_r) in user_ratings[:k])\n",
    "        # Precision@K: Proportion of recommended items that are relevant\n",
    "        # When n_rec_k is 0, Precision is undefined. We here set it to 0.\n",
    "        precisions[uid] = n_rel_and_rec_k / n_rec_k if n_rec_k != 0 else 0\n",
    "        # Recall@K: Proportion of relevant items that are recommended\n",
    "        # When n_rel is 0, Recall is undefined. We here set it to 0.\n",
    "        recalls[uid] = n_rel_and_rec_k / n_rel if n_rel != 0 else 0\n",
    "\n",
    "    return precisions, recalls"
   ]
  },
  {
   "cell_type": "code",
   "execution_count": 418,
   "metadata": {},
   "outputs": [
    {
     "name": "stdout",
     "output_type": "stream",
     "text": [
      "model: algo_knn_user\n",
      "# --------------------------------------\n",
      "top: 5  -- Precision:  0.763 -- Recall:  0.408\n",
      "top: 10  -- Precision:  0.75 -- Recall:  0.55\n",
      "\n",
      "model: algo_knn_user_optimized\n",
      "# --------------------------------------\n",
      "top: 5  -- Precision:  0.775 -- Recall:  0.419\n",
      "top: 10  -- Precision:  0.752 -- Recall:  0.559\n",
      "\n",
      "model: algo_knn_item\n",
      "# --------------------------------------\n",
      "top: 5  -- Precision:  0.605 -- Recall:  0.324\n",
      "top: 10  -- Precision:  0.593 -- Recall:  0.473\n",
      "\n",
      "model: algo_knn_item_optimized\n",
      "# --------------------------------------\n",
      "top: 5  -- Precision:  0.61 -- Recall:  0.329\n",
      "top: 10  -- Precision:  0.597 -- Recall:  0.477\n",
      "\n",
      "model: algo_svd\n",
      "# --------------------------------------\n",
      "top: 5  -- Precision:  0.752 -- Recall:  0.381\n",
      "top: 10  -- Precision:  0.733 -- Recall:  0.517\n",
      "\n",
      "model: svd_algo_optimized\n",
      "# --------------------------------------\n",
      "top: 5  -- Precision:  0.747 -- Recall:  0.387\n",
      "top: 10  -- Precision:  0.732 -- Recall:  0.526\n",
      "\n"
     ]
    }
   ],
   "source": [
    "# A basic cross-validation iterator.\n",
    "kf = KFold(n_splits = 5)\n",
    "# Make list of k values\n",
    "K = [5, 10]\n",
    "# Each model name str format\n",
    "modelsNames = ['algo_knn_user', 'algo_knn_user_optimized', 'algo_knn_item', 'algo_knn_item_optimized', \n",
    "                'algo_svd', 'svd_algo_optimized']\n",
    "\n",
    "# Incremental variable to loop of over modelsNames\n",
    "i = 0\n",
    "# Make list of models (objects)\n",
    "models = [algo_knn_user, algo_knn_user_optimized, algo_knn_item, algo_knn_item_optimized, algo_svd, \n",
    "            algo_svd_optimized]\n",
    "# Calculating average Precision and Recall for each model.\n",
    "for model in models:\n",
    "    print('model: ' + str(modelsNames[i]))\n",
    "    print('# --------------------------------------')\n",
    "    \n",
    "    i = i + 1\n",
    "    \n",
    "    for k in K:\n",
    "\n",
    "        p = []\n",
    "        r = []\n",
    "\n",
    "        for trainset, testset in kf.split(data):        \n",
    "            model.fit(trainset)\n",
    "            predictions = model.test(testset, verbose = False)\n",
    "            precisions, recalls = precision_recall_at_k(predictions, k = k, threshold = 3.5)\n",
    "\n",
    "            # Precision and recall can then be averaged over all users\n",
    "            p.append(sum(prec for prec in precisions.values()) / len(precisions))\n",
    "            r.append(sum(rec for rec in recalls.values()) / len(recalls))\n",
    "        \n",
    "        print('top: ' + str(k), ' -- Precision: ', round(sum(p) / len(p), 3), \n",
    "            '-- Recall: ', round(sum(r) / len(r), 3))\n",
    "    \n",
    "    print('')\n"
   ]
  },
  {
   "cell_type": "markdown",
   "metadata": {},
   "source": [
    "**Comments:**\n",
    "\n",
    "model: **svd_algo_optimized** shows good values at k = 10 (top 10 recomendations)\n",
    "\n",
    "top: 10  -- Precision:  0.732 -- Recall:  0.526\n",
    "\n",
    "* Precision@K: Proportion of recommended items that are relevant\n",
    "* Recall@K: Proportion of relevant items that are recommended"
   ]
  },
  {
   "cell_type": "markdown",
   "metadata": {},
   "source": [
    "#### *C. Implementing the recommendation algorithm for non interacted movies*"
   ]
  },
  {
   "cell_type": "code",
   "execution_count": 449,
   "metadata": {},
   "outputs": [],
   "source": [
    "# Implementing the recommendation algorithm\n",
    "# --------------------------------------\n",
    "\n",
    "# Below we will be implementing a function where the input parameters are:\n",
    "#   data: a rating dataset\n",
    "#   user_id: an user id against which we want the recommendations\n",
    "#   top_n: the number of movies we want to recommend\n",
    "#   algo: the algorithm we want to use to predict the ratings\n",
    "\n",
    "def get_recommendations(data, user_id, top_n, algo):\n",
    "    \n",
    "    # creating an empty list to store the recommended movie ids\n",
    "    recommendations = []    \n",
    "    # creating an user item interactions matrix \n",
    "    user_item_interactions_matrix = data.pivot(index = 'userId', columns = 'movieId', values = 'rating')\n",
    "    # extracting those movie ids which the user_id has not interacted yet\n",
    "    non_interacted_movies = user_item_interactions_matrix.loc[user_id][user_item_interactions_matrix.loc[user_id].isnull()].index.tolist()\n",
    "    \n",
    "    # looping through each of the movie id which user_id has not interacted yet\n",
    "    for item_id in non_interacted_movies:\n",
    "        # predicting the ratings for those non interacted movie ids by this user\n",
    "        est = round(algo.predict(user_id, item_id).est, 2)\n",
    "        # appending the predicted ratings\n",
    "        recommendations.append((item_id, est))\n",
    "\n",
    "    # sorting the predicted ratings in descending order\n",
    "    recommendations.sort(key = lambda x: x[1], reverse = True)\n",
    "    # returing top n highest predicted rating movies for this user\n",
    "    return recommendations[:top_n]"
   ]
  },
  {
   "cell_type": "code",
   "execution_count": 452,
   "metadata": {},
   "outputs": [
    {
     "data": {
      "text/plain": [
       "[(116, 5),\n",
       " (318, 5),\n",
       " (501, 5),\n",
       " (1209, 5),\n",
       " (1217, 5),\n",
       " (1939, 5),\n",
       " (3022, 5),\n",
       " (3038, 5),\n",
       " (5114, 5),\n",
       " (3462, 4.99)]"
      ]
     },
     "execution_count": 452,
     "metadata": {},
     "output_type": "execute_result"
    }
   ],
   "source": [
    "# Predict the top 10 movie recommendations for userId = 4\n",
    "# --------------------------------------\n",
    "\n",
    "recommendations = get_recommendations(df, 4, 10, algo_svd_optimized)\n",
    "recommendations"
   ]
  },
  {
   "cell_type": "markdown",
   "metadata": {},
   "source": [
    "#### *d. Predicting ratings for already interacted movies & Precision & Recall for a single user at K*"
   ]
  },
  {
   "cell_type": "code",
   "execution_count": 204,
   "metadata": {},
   "outputs": [],
   "source": [
    "# Predicting ratings for already interacted movies\n",
    "# --------------------------------------\n",
    "# Comparing the rating predictions of users for those movies which has been already watched by an user. This will help us to understand \n",
    "# how well are predictions compared to the actual ratings provided by users\n",
    "\n",
    "def predict_already_interacted_ratings(data, user_id, algo):\n",
    "    \n",
    "    # creating an empty list to store the recommended movie ids\n",
    "    recommendations = []\n",
    "    # creating an user item interactions matrix \n",
    "    user_item_interactions_matrix = data.pivot(index='userId', columns='movieId', values='rating')\n",
    "    # extracting those movie ids which the user_id has interacted already\n",
    "    interacted_movies = user_item_interactions_matrix.loc[user_id][user_item_interactions_matrix.loc[user_id].notnull()].index.tolist()\n",
    "    \n",
    "    # looping through each of the movie id which user_id has interacted already\n",
    "    for item_id in interacted_movies:\n",
    "        \n",
    "        # extracting actual ratings\n",
    "        actual_rating = user_item_interactions_matrix.loc[user_id, item_id]\n",
    "        # predicting the ratings for those non interacted movie ids by this user\n",
    "        predicted_rating = algo.predict(user_id, item_id).est\n",
    "        # appending the predicted ratings\n",
    "        recommendations.append((user_id, item_id, actual_rating, predicted_rating))\n",
    "\n",
    "    # sorting the predicted ratings in descending order\n",
    "    recommendations.sort(key = lambda x: x[1], reverse=True)\n",
    "    # returning top n highest predictions\n",
    "    return pd.DataFrame(recommendations, columns=['userId', 'movieId', 'true_rating', 'estimated_rating']) "
   ]
  },
  {
   "cell_type": "code",
   "execution_count": 199,
   "metadata": {},
   "outputs": [],
   "source": [
    "# Precision & Recall for a single user at K (number of recomendations)\n",
    "# --------------------------------------\n",
    "\n",
    "def user_precision_recall(predictions, k = 10, threshold = 3.5):\n",
    "    \"\"\"Return precision and recall at k metrics for each user\"\"\"\n",
    "\n",
    "    # First map the predictions to each user.\n",
    "    # user_est_true = defaultdict(list)\n",
    "    est_true = []\n",
    "\n",
    "    for _, _, true_r, est in predictions:\n",
    "        est_true.append((est, true_r))\n",
    "\n",
    "    # Sort user ratings by estimated value\n",
    "    est_true.sort(key = lambda x: x[0], reverse = True)\n",
    "    # Number of relevant items\n",
    "    n_rel = sum((true_r >= threshold) for (_, true_r) in est_true)\n",
    "    # Number of recommended items in top k\n",
    "    n_rec_k = sum((est >= threshold) for (est, _) in est_true[:k])\n",
    "    # Number of relevant and recommended items in top k\n",
    "    n_rel_and_rec_k = sum(((true_r >= threshold) and (est >= threshold)) for (est, true_r) in est_true[:k])\n",
    "    # Precision@K: Proportion of recommended items that are relevant\n",
    "    # When n_rec_k is 0, Precision is undefined. We here set it to 0.\n",
    "    precision = n_rel_and_rec_k / n_rec_k if n_rec_k != 0 else 0\n",
    "    # Recall@K: Proportion of relevant items that are recommended\n",
    "    # When n_rel is 0, Recall is undefined. We here set it to 0.\n",
    "    recall = n_rel_and_rec_k / n_rel if n_rel != 0 else 0\n",
    "\n",
    "    return precision, recall"
   ]
  },
  {
   "cell_type": "markdown",
   "metadata": {},
   "source": [
    "##### *Single user Precision and Recall for top 10 predictions of already interacted movies*"
   ]
  },
  {
   "cell_type": "code",
   "execution_count": 456,
   "metadata": {},
   "outputs": [
    {
     "name": "stdout",
     "output_type": "stream",
     "text": [
      "Precision, Recall\n",
      "# --------------------------------------\n",
      "Precision: 1.00  \n",
      "Recall: 0.06  \n"
     ]
    }
   ],
   "source": [
    "predicted_ratings_for_interacted_movies = predict_already_interacted_ratings(df, 4, algo_svd_optimized)\n",
    "precision, recall = user_precision_recall(predicted_ratings_for_interacted_movies.to_numpy(), k = 10, threshold = 3.5)\n",
    "\n",
    "'''\n",
    "Relevant : Movies which true_ratings are equal or bigger than threshold\n",
    "Precision : Proportion of recommended items that are relevant\n",
    "Recall : Proportion of relevant items that are recommended\n",
    "'''\n",
    "\n",
    "print('Precision, Recall')\n",
    "print('# --------------------------------------')\n",
    "print('Precision: %0.2f  ' % (precision)) \n",
    "print('Recall: %0.2f  ' % (recall)) "
   ]
  },
  {
   "cell_type": "markdown",
   "metadata": {},
   "source": [
    "##### *Plot True_rating vs Estimated_rating Distribution for user already interacted movies*"
   ]
  },
  {
   "cell_type": "code",
   "execution_count": 455,
   "metadata": {},
   "outputs": [
    {
     "data": {
      "image/png": "[encoded data removed]",
      "text/plain": [
       "<Figure size 481x360 with 1 Axes>"
      ]
     },
     "metadata": {
      "needs_background": "light"
     },
     "output_type": "display_data"
    }
   ],
   "source": [
    "# Plot True_rating vs Estimated_rating Distribution\n",
    "# --------------------------------------\n",
    "predicted_ratings_for_interacted_movies = predict_already_interacted_ratings(df, 4, algo_svd_optimized)\n",
    "dfPRIM = predicted_ratings_for_interacted_movies.melt(id_vars = 'movieId', value_vars = ['true_rating', 'estimated_rating'])\n",
    "\n",
    "sns.displot(data = dfPRIM, x = 'value', hue = 'variable', kde = True)\n",
    "plt.title('True vs Estimate Distribution', pad = 10)\n",
    "plt.show()"
   ]
  },
  {
   "cell_type": "markdown",
   "metadata": {},
   "source": [
    "**Comments:**\n",
    "\n",
    "* Precision: 1.00 > All top K recommended movies are relevant too\n",
    "* Recall: 0.06 > Out of all relevant movies only top k where commended\n"
   ]
  },
  {
   "cell_type": "markdown",
   "metadata": {},
   "source": [
    "#### *e. Return the top-N recommendation for each user from a set of predictions*"
   ]
  },
  {
   "cell_type": "code",
   "execution_count": 458,
   "metadata": {},
   "outputs": [],
   "source": [
    "# Return the top-N recommendation for each user from a set of predictions.\n",
    "# --------------------------------------\n",
    "# Arguments:\n",
    "#   a. predictions (list of Prediction objects): The list of predictions, as returned \n",
    "#      by the test method of an algorithm.\n",
    "#   b. n(int): The number of recommendations to output for each user. Default is 10.\n",
    "#\n",
    "# Returns: A dictionary where keys are user (raw) ids and values are lists of tuples:\n",
    "#          [(raw item id, rating estimation), ...] of size n.\n",
    "\n",
    "def get_top_n(predictions, n = 10):\n",
    "    \n",
    "    # First map the predictions to each user.\n",
    "    top_n = defaultdict(list)\n",
    "    for uid, iid, true_r, est, _ in predictions:\n",
    "        top_n[uid].append((iid, est))\n",
    "\n",
    "    # Then sort the predictions for each user and retrieve the k highest ones.\n",
    "    for uid, user_ratings in top_n.items():\n",
    "        user_ratings.sort(key = lambda x: x[1], reverse = False)\n",
    "        top_n[uid] = user_ratings[:n]\n",
    "\n",
    "    return top_n"
   ]
  },
  {
   "cell_type": "code",
   "execution_count": 462,
   "metadata": {},
   "outputs": [
    {
     "name": "stdout",
     "output_type": "stream",
     "text": [
      "1 [1339, 1405, 2968]\n",
      "2 [208, 248, 292, 539, 52, 661, 161, 222, 62, 457]\n",
      "3 [3243, 736, 247, 8622, 5669, 356, 527]\n",
      "4 [2986, 1388, 2002, 1016, 2021, 1372, 1334, 1918, 1030, 2143]\n",
      "5 [4025, 344, 5266, 3948, 597, 2706, 5349, 2694, 2023, 2273]\n",
      "6 [1876, 1909, 2723, 1687, 3751, 8368, 1250, 293, 1276]\n",
      "7 [737, 1371, 610, 1375, 592, 112, 380, 500, 198, 588]\n",
      "8 [520, 1777, 43871, 42007, 2100, 8533, 45, 43556, 524, 33493]\n",
      "9 [1541, 2628, 2539, 2140, 733, 1358, 1784, 2028, 2762, 1177]\n",
      "10 [2995, 1704, 1198, 50]\n",
      "11 [169, 96861, 91500, 785, 81158, 5669, 88129, 923]\n",
      "12 [3773, 2668, 3861, 3179, 3298, 3886, 3879, 1374, 3831]\n",
      "13 [4306, 110, 2762, 1961, 54286, 88125, 2571, 7361, 527, 318]\n",
      "14 [3354, 3986, 3157, 2683, 1721, 2355, 3114]\n",
      "15 [3979, 2568, 5419, 2713, 3316, 83349, 87520, 19, 6157, 4247]\n",
      "16 [7346, 5349, 2278, 6874, 50]\n",
      "17 [6287, 172, 2710, 4975, 185, 8783, 2657, 6197, 2683, 5502]\n",
      "18 [762, 9, 736, 376, 494, 141, 140, 17]\n",
      "19 [891, 429, 1091, 1373, 1126, 344, 367, 365, 383, 369]\n",
      "20 [736, 592, 2405, 34, 1907, 32469, 64285, 1680, 5380, 150]\n",
      "21 [1373, 442, 196, 485, 273, 379, 95, 112, 329, 597]\n",
      "22 [173, 208, 4975, 1544, 3623, 4370, 6373, 315, 5459, 552]\n",
      "23 [1499, 2953, 2600, 1917, 4344, 586, 1241, 7042, 24, 3994]\n",
      "24 [610, 588, 296, 1034]\n",
      "25 [784, 3, 1405, 494, 1073, 1358]\n",
      "26 [3744, 1405, 53972, 377, 51662, 6333, 4019, 70533, 8784, 91542]\n",
      "27 [1639, 1584, 1704, 50, 527]\n",
      "28 [1831, 902, 2406, 1094, 1956, 110, 2028, 1366, 920, 1206]\n",
      "29 [1717, 2459, 51662, 2065, 6502, 778]\n",
      "30 [5452, 1882, 3957, 4167, 2793, 2122, 3395, 2402, 4728, 2054]\n",
      "31 [3698, 31, 72998, 54503, 64614, 44191, 5952, 1089, 2997, 58559]\n",
      "32 [173, 344, 333, 266, 150, 589, 356]\n",
      "33 [1984, 5106, 1091, 3865, 4718, 1717, 4649, 4974, 4558, 3157]\n",
      "34 [2793, 442, 610, 2527, 1339, 316, 253, 2662, 3927, 3032]\n",
      "35 [2278, 1188, 914]\n",
      "36 [256, 216, 273, 248, 57, 372, 55, 253, 521, 362]\n",
      "37 [3564, 4069, 2085, 4014, 1307, 2028, 2858]\n",
      "38 [2092, 8197, 367, 4862, 6953, 6365, 4936, 107555, 7234, 2000]\n",
      "39 [330, 273, 426, 22, 145, 253, 606, 590, 6, 457]\n",
      "40 [112556, 68954, 51255, 70286, 116797, 79702, 1197, 1198, 68237, 2959]\n",
      "41 [173, 327, 1373, 7991, 4625, 1779, 3156, 3937, 5219, 6537]\n",
      "42 [2985, 48394, 89745, 589, 59315, 70286, 1291, 109487, 2571, 58559]\n",
      "43 [1777, 3301, 3005, 2879, 1907, 588, 2081, 3917, 2291, 2395]\n",
      "44 [5, 3, 95, 1047, 648, 17, 6, 260]\n",
      "46 [2153, 1359, 355, 3247, 2539, 73, 81834]\n",
      "47 [153, 442, 344, 316, 288, 588, 300, 457, 296, 50]\n",
      "48 [87520, 108190, 2722, 2710, 4975, 45431, 90469, 3717, 77427, 114180]\n",
      "49 [3269, 2471, 4042, 736, 2094, 3247, 976, 2161, 4047, 3643]\n",
      "50 [434, 231, 282, 587, 339, 597, 780]\n",
      "51 [2701, 2722, 1636, 3175, 3219, 2761, 2396]\n",
      "52 [2338, 2806, 8983, 6370, 6218, 7615, 3854, 5380, 4014, 54001]\n",
      "53 [165, 1370, 2700, 2716, 1610, 2093, 3114, 2396, 3178, 2997]\n",
      "54 [2471, 1027, 56941, 48997, 44199, 2571, 55820, 78499]\n",
      "55 [74, 761, 736, 95, 802, 100, 708, 733, 260]\n",
      "56 [3268, 136864, 58025, 57532, 3988, 87869, 6936, 2617, 74916, 4091]\n",
      "57 [1987, 1918, 592, 1974, 2111, 2161, 1380, 648, 1597, 1088]\n",
      "58 [2817, 2522, 2827, 344, 410, 2015, 2124, 616, 2085, 952]\n",
      "59 [231, 1722, 2161, 2105, 412, 8961, 223, 34153, 541, 7153]\n",
      "60 [653, 1485, 2012, 1380, 16, 8981, 3949, 1673, 5690, 541]\n",
      "61 [2953, 673, 317, 1367, 5693, 2384, 586, 231, 5459, 4333]\n",
      "62 [101864, 70862, 85414, 122882, 58559, 2959, 69481, 260]\n",
      "63 [1474, 4367, 2699, 315, 2628, 2116, 1517, 2174, 4846, 1573]\n",
      "64 [231, 592, 329]\n",
      "65 [5060, 1230, 1278, 1292, 1304, 1288, 260, 858]\n",
      "66 [105, 1092, 1275, 3763, 1580, 2947, 480, 1036, 457, 1270]\n",
      "67 [849, 650, 631, 610, 491, 95, 852, 694, 277, 279]\n",
      "68 [26025, 317, 586, 2420, 45668, 597, 5349, 780, 1923, 8360]\n",
      "69 [158, 344, 5, 104, 597, 1721, 5349, 2987, 357, 2355]\n",
      "70 [673, 743, 711, 5, 707, 736, 724, 76, 7, 92]\n",
      "71 [3963, 3932, 1957, 589]\n",
      "72 [5218, 53000, 122904, 6863, 72998, 36529, 60069, 6377, 68954, 1]\n",
      "73 [3821, 1359, 6503, 160, 737, 42011, 173, 172, 19, 8373]\n",
      "74 [2002, 1377, 612, 10, 2028, 110, 2762, 1704, 2571, 1196]\n",
      "75 [6820, 2455, 8957, 8581, 2174, 1967, 3959, 7743, 3793, 2916]\n",
      "76 [3988, 45, 531, 3911, 2020, 954]\n",
      "77 [6157, 849, 3439, 3882, 2600, 231, 7236, 736, 329, 1721]\n",
      "78 [2995, 4388, 8861, 3273, 4025, 1676, 1513, 2683, 2012, 4018]\n",
      "79 [3864, 736, 3478, 1, 39292, 2918]\n",
      "80 [93, 783, 100, 6, 671, 50]\n",
      "81 [3993, 1173, 8367, 8533, 48165, 3637, 31524, 52617, 8485, 43899]\n",
      "82 [435, 410, 592, 165, 380, 454, 34, 150]\n",
      "83 [1777, 1923, 3869, 3950, 2700, 377, 3253, 21, 514, 1476]\n",
      "84 [8531, 8361, 4023, 53125, 94777, 45722, 74795, 5445, 6378, 6377]\n",
      "85 [291, 405, 432, 275, 688, 158, 44, 23, 185, 231]\n",
      "86 [435, 208, 444, 186, 105, 18, 46, 724, 203, 592]\n",
      "87 [95, 104, 112, 802, 25, 62]\n",
      "88 [153, 256, 1391, 2628, 2100, 31, 1485, 288, 253, 2]\n",
      "89 [107, 6365, 8528, 3638, 1073, 1, 2951, 5418, 6539, 4963]\n",
      "90 [1590, 830, 736, 1569, 986, 832, 1527, 1061, 1580, 1351]\n",
      "91 [2380, 3821, 6763, 59900, 19, 79293, 57532, 52694, 23, 44022]\n",
      "92 [413, 173, 172, 420, 208, 455, 204, 442, 344, 485]\n",
      "93 [59615, 586, 2100, 2470, 339, 3176, 34, 368, 21, 357]\n",
      "94 [3593, 1726, 3441, 344, 6373, 1676, 2628, 3948, 5502, 6365]\n",
      "95 [1975, 1984, 2888, 3146, 2428, 2421, 2389, 4520, 2710, 4639]\n",
      "96 [25947, 1747, 8629, 55118, 1912, 2908, 628, 6650, 5878, 1617]\n",
      "97 [4816, 8376, 1527, 3033, 91529, 30810, 1084, 8950, 2028, 2502]\n",
      "98 [6564, 84374, 7444, 8522, 2193, 1569, 7154, 156025, 7438, 68954]\n",
      "99 [160, 455, 3752, 1909, 2436, 468, 1735, 5013, 5349, 1589]\n",
      "100 [88, 786, 3, 736, 648, 25, 32, 6]\n",
      "101 [172, 315, 1909, 27611, 56921, 2268, 1214, 70286, 2019]\n",
      "102 [3324, 2367, 2121, 2717, 3250, 434, 2362, 1929, 2014, 2747]\n",
      "103 [1389, 5700, 8093, 1129, 1805, 780, 4475, 2916, 1274, 7022]\n",
      "104 [48043, 57640, 88140, 47099, 68358, 84152, 150, 122882, 110, 589]\n",
      "105 [2701, 1882, 784, 19, 3744, 3257, 305, 1889, 442, 381]\n",
      "106 [4040, 53996, 2145, 5422, 6377, 2762, 1968]\n",
      "107 [4447, 5502, 6502, 6016, 527]\n",
      "108 [434, 225, 185, 288, 500, 34, 377, 588, 47, 593]\n",
      "109 [784, 1917, 3793, 2268, 296]\n",
      "110 [413, 208, 204, 434, 248, 168, 3, 165, 500, 266]\n",
      "111 [3004, 2953, 4757, 1541, 1593, 5283, 3893, 216, 1777, 1391]\n",
      "112 [3, 95, 376, 141, 1]\n",
      "113 [637, 135, 711, 105, 5, 104, 21, 25]\n",
      "114 [267, 165, 253, 380, 349]\n",
      "115 [1639, 2502, 7361]\n",
      "116 [367, 480, 2890, 2762, 7153, 5952, 260, 2858]\n",
      "117 [2236, 1831, 3969, 3107, 56587, 2686, 1307, 215, 8638, 2739]\n",
      "118 [2668, 1375, 2455, 2641, 3176, 3763, 832, 2916, 1019, 3101]\n",
      "119 [1556, 1562, 2719, 2136, 3946, 2404, 2574, 1911, 2338, 3977]\n",
      "120 [5693, 6373, 1777, 2470, 2013, 587, 597, 2640, 380, 4002]\n",
      "121 [442, 256, 105, 468, 597, 39, 198, 595, 590, 161]\n",
      "122 [208, 231, 468, 588, 300, 613, 17, 529, 272, 356]\n",
      "123 [2710, 2003, 785, 3203, 2502, 1968, 2959]\n",
      "124 [19, 2683, 8957, 5218, 33493, 6323, 4016, 37475, 3996, 2028]\n",
      "125 [1917, 3994, 33679, 1101, 30793, 2572, 5349, 2706, 1892, 2011]\n",
      "126 [252, 185, 736, 95, 592, 468, 539, 480, 474, 589]\n",
      "127 [193, 370, 5, 339, 539, 380, 480]\n",
      "128 [3299, 2719, 2906, 3999, 558, 2162, 4727, 4745, 2126, 93]\n",
      "129 [3623, 3615, 3751, 3793, 3578]\n",
      "130 [193, 173, 2950, 3441, 410, 5016, 315, 1371, 6934, 288]\n",
      "131 [3253, 3852, 4034, 593, 2858, 2692]\n",
      "132 [48744, 2174, 5577, 1111, 56274, 27255, 53189, 38886, 377, 8014]\n",
      "133 [48082, 116939, 106441, 100714, 30707, 55247, 595, 64701, 1302, 90866]\n",
      "134 [19, 344, 485, 1917, 5378, 2311, 2001, 2012, 592, 6365]\n",
      "135 [65, 18, 747, 754]\n",
      "136 [3991, 500, 8636, 364, 34332, 6663, 1, 1210, 1968, 5952]\n",
      "137 [1375, 2094, 2628, 3169, 2009, 595, 349, 1784, 2043, 910]\n",
      "138 [86880, 86911, 5349, 8368, 80463, 4886, 122882, 59315, 1201, 4993]\n",
      "139 [4149, 852, 1011, 4290, 2302, 3098, 5377, 2712, 1584]\n",
      "140 [3564, 60, 5, 552, 103801, 6942, 364, 104841, 4306, 4896]\n",
      "141 [2724, 3755, 2628, 4022, 3793, 2427, 349, 318]\n",
      "142 [4744, 2378, 344, 4238, 4830, 4720, 4814, 2791, 919, 4835]\n",
      "143 [45499, 4855, 4848, 39414, 4034, 1673, 4886, 32587, 44191, 778]\n",
      "144 [432, 185, 288, 377, 21, 480, 457]\n",
      "145 [317, 367, 434, 588, 161, 300, 589, 593, 356]\n",
      "146 [2478, 1569, 524, 2302, 733, 7438, 480, 8961, 33794, 150]\n",
      "147 [207, 3396, 56367, 4011, 608, 527]\n",
      "148 [5900, 2986, 1779, 1690, 1391, 52, 5060, 492, 5670, 4105]\n",
      "149 [7316, 586, 106487, 1347, 104, 8644, 253, 2706, 4755, 34162]\n",
      "150 [829, 435, 4638, 2253, 3977, 2054, 3998, 2082, 1005, 1544]\n",
      "151 [19, 153, 442, 410, 225, 165, 597, 292, 39, 440]\n",
      "152 [3257, 367, 586, 6365, 3148, 8533, 4002, 454, 33493, 36529]\n",
      "153 [3799, 5841, 760, 3825, 1777, 2116, 147, 4886, 2762, 1210]\n",
      "154 [673, 107, 1, 62, 671, 608]\n",
      "155 [2699, 2628, 2528, 198, 2916, 1396, 1127, 1965, 1957, 589]\n",
      "156 [4975, 3717, 55765, 802, 69122, 4239, 77561, 4262, 1285, 1884]\n",
      "157 [2383, 160, 4367, 12, 1544, 85510, 1690, 8117, 370, 1676]\n",
      "158 [1388, 2376, 481, 1967, 62956, 3386]\n",
      "159 [344, 76, 1974, 799, 329, 253, 180, 3763, 72, 5015]\n",
      "160 [350, 2431, 1727, 1088, 34, 3844, 1358, 1784, 1962, 3178]\n",
      "161 [160, 485, 231, 277, 316, 10, 553, 648, 337, 296]\n",
      "162 [3, 736, 494, 605, 6, 608]\n",
      "163 [2541, 1370, 1721, 56174, 1835, 104337, 92751, 33493, 3793, 480]\n",
      "164 [1722, 10, 3253, 8360, 2791, 8600, 1208, 5952, 4993, 1136]\n",
      "165 [4255, 1562, 6482, 8372, 5597, 5106, 393, 673, 5507, 1972]\n",
      "166 [6535, 5445, 2096, 6686, 1682, 5669, 3897, 5989, 1968, 3578]\n",
      "167 [2002, 3157, 2355, 1270, 1210]\n",
      "168 [427, 173, 489, 442, 358, 378, 510, 597, 450, 780]\n",
      "169 [4069, 52722, 43936, 2059, 1021, 56174, 53972, 61729, 3793, 8643]\n",
      "170 [3174, 616, 1527, 1962, 2078, 1240]\n",
      "171 [2710, 2770, 2541, 1747, 2336, 1729, 2355, 16, 1500, 223]\n",
      "172 [586, 592, 663, 590, 300, 150, 457]\n",
      "173 [762, 1367, 736, 1047, 1517, 100, 708, 62, 260]\n",
      "174 [48, 2699, 1376, 5060]\n",
      "175 [1562, 6157, 1479, 5524, 5957, 3565, 2424, 4018, 5810, 4519]\n",
      "176 [36401, 2054, 82202, 48043, 3988, 53894, 6934, 1485, 6754, 82167]\n",
      "177 [1831, 1882, 519, 405, 1306, 1690, 1479, 338, 1590, 185]\n",
      "178 [7158, 3052, 74948, 1282, 1097, 78574, 364, 7022, 4979, 2078]\n",
      "179 [67734, 8972, 46976, 91529, 49272, 1682, 78499]\n",
      "180 [2710, 700, 1127, 1240, 589, 1225, 1193, 527]\n",
      "181 [2003, 3052, 8528, 1597, 1625, 1089]\n",
      "182 [355, 4, 502, 126, 719, 208, 60, 48, 485, 801]\n",
      "183 [4027, 1354, 608]\n",
      "184 [288, 180, 334, 349, 300, 474, 223, 593]\n",
      "185 [172, 2253, 1037, 1544, 4446, 2021, 788, 2033, 610, 1009]\n",
      "186 [6365, 72998, 6539, 3996, 79132, 3578, 5952, 2959]\n",
      "187 [427, 2710, 2269, 410, 4649, 586, 2581, 5617, 3005, 6934]\n",
      "188 [160, 173, 93, 196, 317, 48, 217, 410, 231, 24]\n",
      "189 [2720, 2719, 3238, 2428, 2806, 3752, 434, 2001, 2167, 3763]\n",
      "190 [2702, 2598, 3051, 1513, 2433, 2975, 2607, 3512, 2580, 3114]\n",
      "191 [208, 185, 592, 339, 454, 588, 161]\n",
      "192 [160, 19, 370, 350, 237, 454, 595, 588, 318]\n",
      "193 [1747, 3418, 3108, 16, 296, 2858, 904, 2359]\n",
      "194 [208, 442, 292, 380, 368, 590, 150]\n",
      "195 [2719, 3889, 405, 2549, 2404, 3257, 2367, 3986, 2411, 2877]\n",
      "196 [3682, 2082, 3688, 5, 2977, 3489, 3005, 3614, 3707, 2975]\n",
      "197 [1702, 674, 442, 1391, 2094, 1909, 2015, 2628, 1009, 2311]\n",
      "198 [3470, 3210, 6296, 3925, 1244, 4034, 1732, 4027, 1222, 3147]\n",
      "199 [546, 1882, 83349, 56801, 208, 673, 74532, 82461, 53996, 88405]\n",
      "200 [3785, 79695, 45431, 3717, 4052, 8361, 367, 53121, 6548, 4161]\n",
      "201 [8781, 736, 27822, 316, 8644, 648, 27882, 8836, 832, 30812]\n",
      "202 [5927, 2122, 2533, 2530, 3285, 4042, 2748, 1371, 2015, 329]\n",
      "203 [2410, 4848, 1617, 4226, 50, 318]\n",
      "204 [4531, 1374, 16, 4306, 1246, 1234]\n",
      "205 [133419, 31696, 42723, 60074, 52245, 48385, 118696, 135887, 95311, 58103]\n",
      "206 [2033, 1375, 1376, 1663, 1124, 1302, 1307, 1246, 1968]\n",
      "207 [58293, 673, 1367, 27478, 69122, 26564, 1120]\n",
      "208 [4149, 3210, 3499, 106920, 104374, 106782, 1203]\n",
      "209 [1376]\n",
      "210 [1993, 6365, 34, 2804]\n",
      "211 [685, 1391, 999, 1390, 780, 1393, 32, 1270, 29, 608]\n",
      "212 [2701, 2236, 4388, 4735, 784, 6888, 36401, 1644, 5507, 158]\n",
      "213 [1726, 1499, 53993, 3826, 160, 1603, 51077, 5171, 2808, 94780]\n",
      "214 [2735, 3608, 2455, 1092, 2405, 292, 3984, 3552, 1275, 4041]\n",
      "215 [653, 376, 1429, 919, 6, 1210, 1234, 1077, 1198, 912]\n",
      "216 [783, 3751, 3950, 2321, 2791, 4886, 2502, 1270, 1617, 1196]\n",
      "217 [8387, 1373, 135, 3, 30825, 3948, 7317, 1517, 1923, 1376]\n",
      "218 [410, 508, 3114, 1197, 1259, 1233, 1136]\n",
      "219 [19, 2447, 8376, 5110, 3948, 3450, 2671, 2993, 1923, 3639]\n",
      "220 [2995, 3269, 3053, 637, 208, 1037, 2054, 3250, 5316, 2805]\n",
      "221 [172, 315, 466, 832, 3793, 2406, 2797]\n",
      "222 [3714, 3732, 3668, 3707, 3567, 3536, 3723, 2201, 2087, 1935]\n",
      "223 [1359, 5, 805, 62, 628]\n",
      "224 [1405, 288, 334, 249, 247, 151, 588, 149, 628, 265]\n",
      "225 [153, 367, 185, 329, 380, 588, 480, 589, 356]\n",
      "226 [673, 65465, 56156, 50802, 51925, 37853, 50804, 64716, 4995, 58559]\n",
      "227 [2296, 2384, 2273, 2355]\n",
      "228 [2478, 1517, 2791, 3033, 4085, 1220, 111362, 1682, 2115, 589]\n",
      "229 [1042, 4002, 2427, 2707, 3108, 2968, 1035, 1283, 3435, 1172]\n",
      "230 [3275, 48774, 56715, 53956, 6711, 1265, 81591, 70286, 1704, 2571]\n",
      "231 [3751, 357, 2762, 3546, 3481, 593, 1617, 296, 1213, 903]\n",
      "232 [2450, 518, 2642, 2379, 1381, 1037, 2262, 2054, 444, 2717]\n",
      "233 [1006, 95, 376, 802, 140, 1061]\n",
      "234 [367, 48385, 2683, 2009, 500, 7826, 1527, 595, 5445, 1073]\n",
      "235 [3248, 5296, 4975, 6596, 3623, 4448, 236, 3948, 592, 2605]\n",
      "236 [1676, 3559, 3470, 4768, 2294, 780, 8670, 7234, 2000, 8507]\n",
      "237 [344, 1320, 380, 588, 1270, 2858]\n",
      "238 [108729, 4025, 4700, 33679, 2424, 60950, 31685, 1721, 7254, 45720]\n",
      "239 [3299, 1713, 4, 3146, 2953, 2473, 1091, 2735, 719, 1007]\n",
      "240 [6593, 8865, 410, 4734, 3948, 1517, 380, 5013, 4022, 5421]\n",
      "241 [420, 231, 1, 150, 457, 778]\n",
      "242 [3257, 1404, 2724, 1586, 252, 22, 2468, 3259, 3169, 2100]\n",
      "243 [3826, 2421, 3785, 2840, 3977, 3273, 44, 2717, 3993, 4526]\n",
      "244 [2717, 33004, 53996, 34162, 2005, 54001, 54503, 1036, 1214, 3578]\n",
      "245 [2053, 4975, 4890, 2447, 22, 1608, 3798, 1721, 333, 3255]\n",
      "246 [1544, 539, 3015, 1907, 595]\n",
      "247 [413, 2719, 2953, 3388, 2372, 2054, 2082, 1388, 1479, 12]\n",
      "248 [3827, 2346, 2528, 1129, 2641, 3176, 2669, 4353, 2011, 2427]\n",
      "249 [500, 337, 356]\n",
      "250 [45672, 60037, 31696, 45081, 3948, 62434, 56587, 139644, 30812, 30707]\n",
      "251 [78637, 106491, 106002, 8644, 97225, 53972, 51662, 111759, 551, 1036]\n",
      "252 [673, 7, 802, 648, 832, 260]\n",
      "253 [784, 172, 2505, 585, 3809, 1320, 2193, 3450, 2528, 2]\n",
      "254 [181, 542, 275, 330, 372, 350, 597, 481, 469, 380]\n",
      "255 [8985, 4388, 7173, 256, 33164, 105, 231, 6953, 45447, 7254]\n",
      "256 [79, 648]\n",
      "257 [8484, 7919, 64695, 3224, 7022, 8961, 27731, 110, 4886, 32587]\n",
      "258 [3480, 3548, 2762, 3468, 260, 1221]\n",
      "259 [2792, 785, 2109, 2736, 1097, 2396, 2194, 2599, 246, 260]\n",
      "260 [367, 231, 379, 329, 56174, 2109, 4220, 589, 4995, 1210]\n",
      "261 [19, 653, 7254, 2174, 832, 377, 1584, 7143, 589, 1208]\n",
      "262 [3991, 8947, 4069, 130448, 3977, 2710, 4745, 3273, 109848, 2790]\n",
      "263 [762, 517, 168, 2803, 1275, 2529, 368, 2916, 3686, 6870]\n",
      "264 [2671, 342, 4593, 39, 440, 377, 2081, 2080, 1191, 1097]\n",
      "265 [1633, 952, 1186, 1235, 2791, 1171, 3685, 3171, 1242, 2951]\n",
      "266 [586, 588, 590]\n",
      "267 [2236, 8784, 2329]\n",
      "268 [19, 2710, 83613, 85131, 344, 3623, 3986, 2072, 586, 87430]\n",
      "269 [1645, 1183, 1464, 1673, 1057, 1617]\n",
      "270 [136864, 66509, 103228, 113741, 5378, 4734, 7373, 114670, 98809, 57368]\n",
      "271 [1377, 653, 337, 4306, 2797, 32, 110, 3114, 2762, 1230]\n",
      "272 [5218, 3793, 480, 1, 122900, 134853, 110102]\n",
      "273 [5378, 119141, 99149, 122904, 107516, 2596, 104841, 5816, 68358, 6377]\n",
      "274 [2012, 1653, 4306, 345, 1449, 3471, 866, 2959]\n",
      "275 [3809, 1042, 95135, 97057, 93324, 60128, 2011, 5816, 8368, 54001]\n",
      "276 [1909]\n",
      "277 [98809, 133195, 146309, 377, 139385, 122900, 110, 2028, 1200, 2571]\n",
      "278 [936, 1084, 4178, 1617, 2997, 3735, 3504]\n",
      "279 [173, 153, 231, 282, 587, 553, 377, 589]\n",
      "280 [1911, 2059, 1639]\n",
      "281 [1375, 597, 780, 7062, 590, 480, 4178, 150, 457, 1234]\n",
      "282 [1381, 3623, 3861, 1917, 2770, 1777, 2683, 3753, 597, 2671]\n",
      "283 [2585, 36276, 2671, 2539, 780, 4246, 1087, 3746, 357, 34072]\n",
      "284 [719, 12, 7, 376, 494, 648, 780, 798]\n",
      "285 [2642, 2816, 2643, 1581, 2404, 19, 1591, 2840, 3388, 637]\n",
      "286 [2522, 1887, 344, 1917, 1017, 577, 2000, 1019, 4007]\n",
      "287 [2392, 110730, 2713, 1882, 108945, 122902, 108190, 135133, 103228, 117895]\n",
      "288 [173, 19, 432, 44, 344, 367, 315, 350, 31, 597]\n",
      "289 [2471, 3555, 2142, 1033, 3916, 1366, 3507]\n",
      "290 [5481, 1372, 4896, 5782]\n",
      "291 [315, 1485, 8636, 1527, 3448, 4306, 4105, 2028, 223, 3671]\n",
      "292 [7161, 3882, 434, 70, 2861, 586, 786, 5308, 4676, 236]\n",
      "293 [4367, 4143, 1320, 3189, 4584, 1022, 3701, 2355, 1374, 3911]\n",
      "294 [3997, 3979, 1681, 5504, 5419, 193, 419, 5047, 5313, 3004]\n",
      "295 [2381, 7701, 4563, 3740, 316, 112, 1101, 3751, 2572, 1923]\n",
      "296 [575, 3210, 2109, 4306, 6539]\n",
      "297 [2826, 8275, 1339, 79274, 104, 7317, 8528, 69122, 7843, 72011]\n",
      "298 [127052, 62115, 74727, 158956, 136449, 102666, 98615, 97752, 84844, 6283]\n",
      "299 [6707, 36401, 444, 1627, 70, 8499, 5909, 839, 6162, 6873]\n",
      "300 [2529, 588, 1291, 2858]\n",
      "301 [2088, 3156, 5308, 203, 3148, 3591, 66665]\n",
      "302 [466, 236, 587, 596, 362, 590, 457]\n",
      "303 [4975, 256, 367, 520, 2455, 8376, 592, 288, 339, 8169]\n",
      "304 [1091, 1015, 2683, 2528, 3253, 31410, 3386, 235, 223, 44788]\n",
      "305 [546, 1544, 296, 2917]\n",
      "306 [3690, 784, 3269, 19, 420, 2088, 1911, 2522, 818, 804]\n",
      "307 [55247, 54503, 38061, 3949, 3178, 1732, 52952, 54286, 47, 1617]\n",
      "308 [93, 367, 70, 407, 350, 611, 780, 477, 45, 1387]\n",
      "309 [31221, 1909, 1101, 27899, 26513, 31923, 6662, 101, 3897, 7482]\n",
      "310 [1375, 2003, 1339, 1275, 4085, 1276]\n",
      "311 [2153, 2720, 160, 3354, 489, 20, 2421, 1373, 1453, 3977]\n",
      "312 [1544, 2002, 367, 105, 585, 532, 1876, 2628, 203, 1687]\n",
      "313 [6287, 19, 37727, 208, 3977, 4992, 7173, 3755, 381, 8830]\n",
      "314 [115210, 115713, 50872, 1198]\n",
      "315 [6157, 5015, 5954, 5991, 5902, 1253, 2300, 260, 922]\n",
      "316 [6373, 4310, 4734, 129428, 8528, 45499, 94070, 34162, 59369, 6378]\n",
      "317 [208, 185, 292, 454, 150, 318]\n",
      "318 [5, 653, 731, 830, 1047, 648, 1061, 805, 260, 41]\n",
      "319 [435, 553, 593, 356]\n",
      "320 [5945, 7438, 60069, 27831, 115713, 1704, 116797, 2571, 912]\n",
      "321 [1713, 2605, 164, 1683, 1, 1732, 2396, 2076, 2066]\n",
      "322 [3445, 1459, 1092, 3176, 906, 3386, 1968, 2076, 3730, 1212]\n",
      "323 [5445, 912]\n",
      "324 [59615, 8865, 34048, 68319, 1917, 53996, 5945, 592, 8529, 2]\n",
      "325 [105, 277, 3072, 914]\n",
      "326 [653, 2987, 1396, 1127, 1073, 314, 1287, 1931, 1197, 1196]\n",
      "327 [1375, 2688, 3247, 288, 2394, 2916, 1196, 260]\n",
      "328 [8372, 432, 2054, 5882, 736, 316, 3675, 2142, 2294, 2640]\n",
      "329 [802]\n",
      "330 [707, 483, 1639, 2353, 3256, 1179, 1028, 3246, 589, 1252]\n",
      "331 [2717, 256, 2470, 2803, 3107, 80463]\n",
      "332 [158, 3535, 8957, 163, 6377, 1089]\n",
      "333 [2411, 8529, 3751, 73881, 1527, 33660, 1954, 5418, 6539, 589]\n",
      "334 [1, 99114, 112552, 85342, 6016, 318]\n",
      "335 [2379, 1381, 1287, 1212]\n",
      "336 [1372, 1019, 4406, 1250, 912, 954, 1204, 908, 923, 922]\n",
      "337 [1969]\n",
      "338 [367, 410, 168, 2, 648, 25, 161, 17, 589, 593]\n",
      "339 [111360, 5507, 8644, 266, 5888, 74727, 2273, 30816, 30707, 74510]\n",
      "340 [2412, 2951, 1704, 4993, 1221, 7502, 858]\n",
      "341 [2336, 2947, 2686, 1748, 4404]\n",
      "342 [2906, 367, 2100, 14, 2565, 2539, 1573, 1639, 1344, 2022]\n",
      "343 [852, 1552, 780, 1672, 6, 1210, 41, 608]\n",
      "344 [413, 519, 836, 1388, 544, 434, 5, 1241, 1027, 587]\n",
      "345 [2382, 153, 2072, 370, 4370, 3994, 1517, 5349, 8207, 2712]\n",
      "346 [3997, 674, 3771, 3452, 367, 1623, 4941, 4980, 1391, 3438]\n",
      "347 [1721, 1214, 778, 5952]\n",
      "348 [509, 235, 1682, 4424, 3067, 1050, 2020, 356, 1213, 293]\n",
      "349 [3316, 3977, 4367, 4344, 4161, 1285, 3949, 3996, 1961]\n",
      "350 [432, 3484, 4728, 4367, 1586, 3513, 1017, 2688, 2433, 5401]\n",
      "351 [2668, 3963, 1129, 3984, 3512, 4008, 1288, 912]\n",
      "352 [104419, 34405, 6283, 5146, 6377, 1220, 32, 1732, 3114, 32587]\n",
      "353 [43919, 4124, 3785, 818, 3682, 2533, 5323, 2054, 3717, 3697]\n",
      "354 [173, 552, 597, 596, 11, 594, 595, 349, 471]\n",
      "355 [19, 153, 344, 2699, 1917, 1676, 5463, 2376, 2012, 2683]\n",
      "356 [2688, 55444, 1222, 2501, 994]\n",
      "357 [231, 329, 454, 249, 588, 265, 223, 581]\n",
      "358 [829, 374, 2053, 2389, 432, 1007, 2372, 1911, 1461, 2286]\n",
      "359 [3258, 2384, 27611, 2336, 6235, 2959, 912, 1193, 306]\n",
      "360 [1562, 1097, 2313, 2871, 50]\n",
      "361 [609, 653, 839, 852, 14, 785, 648, 52, 140, 1183]\n",
      "362 [2497, 27772, 1339, 8376, 2683, 592, 6365, 996, 27821, 5377]\n",
      "363 [1381, 2808, 2558, 2135, 1917, 1416, 2704, 2506, 346, 616]\n",
      "364 [72998, 68358, 97938, 1240, 1210, 115617, 293, 31658]\n",
      "365 [5459, 3398, 4936, 2081, 3101, 6378, 6333, 480, 8833, 364]\n",
      "366 [2642, 45431, 2134, 724, 2139, 2739, 56152, 4973]\n",
      "367 [4654, 3826, 37727, 6564, 8810, 34048, 2699, 4343, 8968, 5872]\n",
      "368 [2724, 1073, 3429]\n",
      "369 [442, 317, 350, 2, 500, 590]\n",
      "370 [4735, 2549, 8947, 2840, 4975, 367, 3994, 2640, 7810, 1275]\n",
      "371 [94780, 3785, 104303, 68554, 118696, 3948, 32029, 55765, 4699, 53125]\n",
      "372 [1569, 539, 242, 1278, 912]\n",
      "373 [2381, 1091, 2598, 2469, 2100, 1135, 2617, 2528, 1395, 2539]\n",
      "374 [3614, 1025, 1961]\n",
      "375 [288, 10, 595, 356, 296]\n",
      "376 [4238, 3549, 3980, 4239, 2969, 910, 1961, 3095, 1267, 1233]\n",
      "377 [8666, 3754, 4980, 41566, 934, 52975]\n",
      "378 [112804, 6953, 4447, 8376, 5349, 101741, 96373, 104863, 114265, 134569]\n",
      "379 [6503, 3717, 1586, 30707, 2278, 4306, 6874, 3949, 6539, 110]\n",
      "380 [2456, 8985, 1882, 49649, 6287, 3146, 42011, 2549, 19, 1591]\n",
      "381 [360, 1801, 5, 252, 3173, 2683, 3978, 848, 5218, 3751]\n",
      "382 [101112, 101612, 5943, 48, 65230, 586, 5957, 4816, 8376, 1021]\n",
      "383 [748, 640, 95, 802, 1049, 805, 62, 6, 1198]\n",
      "384 [193, 4388, 6482, 45501, 173, 784, 2404, 420, 8373, 6157]\n",
      "385 [227, 231, 22, 350, 95, 237, 145, 165, 292, 339]\n",
      "386 [435, 3053, 2428, 2722, 2827, 4148, 1917, 3893, 342, 3751]\n",
      "387 [1416, 3678, 1883, 2941, 450, 2150, 596, 11, 5866, 3217]\n",
      "388 [2381, 518, 2953, 784, 2735, 5417, 1862, 5666, 4643, 2796]\n",
      "389 [248, 22, 316, 54, 266, 151, 161, 62]\n",
      "390 [65, 1562, 15, 891, 1373, 637, 44, 609, 204, 185]\n",
      "391 [4, 522, 493, 35, 531, 1301, 357, 1202, 222, 300]\n",
      "392 [2747, 1566, 2926, 3034, 2329, 58559]\n",
      "393 [435, 6367, 5065, 2706, 1923, 2453, 6333, 1584, 934, 1120]\n",
      "394 [344, 76293, 5378, 288, 31, 47997, 2174, 6125, 380, 648]\n",
      "395 [2985, 2406, 1210]\n",
      "396 [880, 505, 44, 274, 338, 185, 520, 466, 351, 237]\n",
      "397 [3998, 72489, 71248, 70344, 67252, 71535, 72171, 71264, 26776, 69481]\n",
      "398 [3997, 3821, 3785, 3755, 2072, 3617, 3087, 3753, 3751, 1923]\n",
      "399 [357, 194]\n",
      "400 [435, 434, 586, 316, 10, 39, 457, 296, 608]\n",
      "401 [1091, 3704, 1375, 3175, 2105, 1376, 2529, 2985, 1374, 1265]\n",
      "402 [258, 45672, 6157, 4992, 85131, 4718, 5283, 2447, 133419, 82461]\n",
      "403 [188, 1339, 1350, 247, 1340, 1343, 296]\n",
      "404 [2628, 1457, 5372, 1393, 4881]\n",
      "405 [2950, 4727, 2269, 5420, 4643, 4296, 2002, 586, 3404, 4866]\n",
      "406 [1873, 41336, 33493, 4928, 924, 104283, 2268, 1200, 1077, 7099]\n",
      "407 [3225, 3179, 5315, 2431, 4024, 3566, 1966, 3903, 1407, 3535]\n",
      "408 [2568, 327, 1717, 2014, 18, 2606, 1015, 1569, 104, 2006]\n",
      "409 [153, 35, 292, 34, 21, 349, 154, 32, 290, 272]\n",
      "410 [344, 648, 480, 32, 4993, 527]\n",
      "411 [1997, 1193, 2858]\n",
      "412 [360, 3999, 3968, 1644, 3755, 3986, 367, 370, 185, 2598]\n",
      "413 [786, 95, 780, 832, 1073, 17, 6]\n",
      "414 [518, 3395, 4203, 24, 46, 4345, 346, 1507, 4578, 2427]\n",
      "415 [736, 380, 588, 595, 480, 50]\n",
      "416 [419, 540, 153, 381, 217, 370, 122, 225, 585, 433]\n",
      "417 [8783, 3994, 6934, 2628, 5502, 1370, 2427, 4857, 8636, 8596]\n",
      "418 [4254, 6595, 344, 48, 3452, 5151, 3825, 44022, 4232, 4161]\n",
      "419 [3977, 2167, 34, 6870, 590, 3911, 5876]\n",
      "420 [126, 552, 1025, 249, 1307, 910, 1079, 593, 1230, 1411]\n",
      "421 [160, 410, 315, 236, 253, 339, 11, 595, 349, 364]\n",
      "422 [3174, 1805, 1619, 2706, 3107, 3100, 25, 1094, 62, 2231]\n",
      "423 [2450, 6373, 520, 4558, 2723, 48385, 2539, 71464, 6395, 4499]\n",
      "424 [5388, 1747, 1965, 1912, 348, 1466, 2858]\n",
      "425 [442, 3, 6990, 8784, 1584, 4306, 1220, 7263, 2028, 1200]\n",
      "426 [49649, 173, 75341, 2054, 1917, 31696, 46530, 6880, 73106, 71254]\n",
      "427 [2891, 33880, 4765, 114074, 107141, 3176, 3182, 45720, 2572, 5135]\n",
      "428 [413, 153, 1826, 5378, 27879, 231, 48385, 592, 329, 8859]\n",
      "429 [1644, 45062, 2337, 123, 593, 2959]\n",
      "430 [44397, 3977, 344, 367, 231, 3, 8158, 42738, 380, 494]\n",
      "431 [432, 2004, 4890, 3893, 6953, 1485, 587, 3978, 2085, 8464]\n",
      "432 [1517, 780, 6188, 2273, 2700, 1729, 6708, 5418, 2502, 1258]\n",
      "433 [6287, 4015, 2657, 4734, 6936, 8376, 1485, 592, 2706, 45499]\n",
      "434 [1003, 1488, 74, 469, 785, 1645, 1573, 832, 1188, 1183]\n",
      "435 [1721, 1566, 32, 1246, 593]\n",
      "436 [2067, 1944, 6918, 593, 1230, 1225, 2068, 1203, 1939]\n",
      "437 [380, 661, 595, 590, 246]\n",
      "438 [27773, 92259, 152081, 50]\n",
      "439 [3821, 5666, 5481, 4291, 5943, 2469, 1371, 5449, 3863, 1375]\n",
      "440 [442, 273, 586, 466, 553, 364, 474, 32]\n",
      "441 [5621, 6373, 59, 1101, 2618, 1446, 7303, 1759, 5083, 5673]\n",
      "442 [65, 153, 7318, 1378, 95, 3450, 2, 1805, 3680, 2174]\n",
      "443 [131013, 104841, 62336, 1036, 85179, 5618, 356, 1136, 260, 318]\n",
      "444 [2133, 3936, 3176, 3967]\n",
      "445 [2380, 2004, 2410]\n",
      "446 [8644, 98809, 5445, 115713]\n",
      "447 [413, 420, 158, 276, 234, 105, 168, 282, 288, 253]\n",
      "448 [480, 589, 79132, 54286, 593, 2571, 1198, 260]\n",
      "449 [344, 225, 380, 590, 47, 356, 296]\n",
      "450 [148372, 141886, 60684, 5445, 3910, 48394, 8961, 1682, 122882, 4963]\n",
      "451 [3977, 4067, 2541, 2124, 4022, 52, 3361, 2693, 3067, 1288]\n",
      "452 [3990, 3957, 6287, 7366, 3130, 1526, 3269, 19, 1888, 5881]\n",
      "453 [1562, 2720, 3999, 3827, 1801, 2002, 694, 2617, 3624, 1566]\n",
      "454 [3994, 2028, 296, 2959, 5995, 608, 6016]\n",
      "455 [3623, 1909, 145, 1092, 165, 364, 1, 2502, 1060]\n",
      "456 [3717, 6934, 8644, 33493, 5445, 480, 5903, 4896, 5418, 4886]\n",
      "457 [59900, 1976, 54004, 3243, 2735, 1995, 4520, 743, 86911, 1431]\n",
      "458 [208, 2294, 454, 3793, 377, 541, 1197, 356, 296, 1221]\n",
      "459 [14, 1356]\n",
      "460 [4, 1091, 2735, 442, 4474, 2829, 1801, 48, 434, 4621]\n",
      "461 [2446, 1562, 2497, 2642, 173, 1381, 2473, 420, 2122, 429]\n",
      "462 [3977, 1372, 587, 3176, 21, 1476, 2324, 2858]\n",
      "463 [160, 1373, 1037, 1889, 1409, 1488, 2411, 225, 168, 5463]\n",
      "464 [153, 158, 204, 165, 10, 198, 595, 588]\n",
      "465 [2375, 1895, 38798, 1620, 4246, 661, 34162, 6942, 4011, 2542]\n",
      "466 [2054, 1676, 3157, 1375, 1378, 2628, 2, 539, 616, 2141]\n",
      "467 [432, 2154, 2469, 2881, 2424, 1721, 1645, 1124, 2166, 223]\n",
      "468 [1831, 374, 2053, 6383, 2953, 19, 1591, 6593, 719, 45431]\n",
      "469 [72612, 3210, 3108, 1345]\n",
      "470 [172, 1190, 6541, 253, 7068, 224, 4720, 25771, 4195, 2010]\n",
      "471 [2383, 3824, 1707, 2549, 4124, 59615, 2724, 186, 3827, 1544]\n",
      "472 [45501, 2974, 2505, 2296, 5417, 5941, 2710, 2375, 2891, 3755]\n",
      "473 [6157, 54004, 6373, 101142, 2, 8464, 100083, 90430, 6378, 3448]\n",
      "474 [3819, 4008, 2160, 1903, 2070, 1238, 2863, 3578, 1219]\n",
      "475 [3997, 3646, 8985, 4876, 3354, 87529, 5313, 83349, 93270, 122902]\n",
      "476 [3113, 2826, 2369, 2881, 2683, 3174, 785, 2706, 3081, 2712]\n",
      "477 [1644, 158, 5481, 1371, 2881, 8371, 1027, 65982, 1580, 4571]\n",
      "478 [8984, 6373, 59022, 53125, 81562, 91542, 8368, 91529, 74458, 92259]\n",
      "479 [5481, 5621, 2114, 59369, 54503, 5816, 54001, 47610, 80489, 4963]\n",
      "480 [4638, 1920, 158, 2054, 5481, 1717, 8361, 586, 46972, 7347]\n",
      "481 [109848, 8197, 7505, 3863, 7071, 5686, 3753, 2763, 56174, 44694]\n",
      "482 [799, 1407, 2637, 3016, 2652, 2901, 2651, 2716, 1982, 2784]\n",
      "483 [4638, 3623, 48385, 102125, 380, 122904, 77561, 6333, 8665, 1997]\n",
      "484 [62, 17, 41]\n",
      "485 [3717, 8823]\n",
      "486 [34048, 4370, 2628, 2012, 102125, 135887, 94864, 500, 7206, 144976]\n",
      "487 [160, 158, 344, 381, 370, 248, 662, 185, 510, 585]\n",
      "488 [880, 48774, 4881, 3499, 48738, 6773, 66097, 5618, 4993, 5995]\n",
      "489 [2987, 2716, 924, 3095]\n",
      "490 [736, 780, 1073, 32]\n",
      "491 [2724, 2356, 2107, 799, 253, 2987, 1885, 1784]\n",
      "492 [1836, 1596, 1173, 620, 495, 1733, 793, 1174, 690, 1415]\n",
      "493 [2697, 2088, 1888, 1541, 105, 1629, 237, 361, 2062, 469]\n",
      "494 [1722, 48774, 60069, 1265, 69757, 1732, 44191, 50068, 296, 1198]\n",
      "495 [253, 292, 597, 454, 356]\n",
      "496 [20, 79, 158, 231, 653, 351, 95, 170, 165, 339]\n",
      "497 [2240, 2146, 2134, 2174, 2716, 1994, 1285, 1179, 1307, 2144]\n",
      "498 [5481, 5459]\n",
      "499 [1197, 1230, 3741, 3435, 903, 953, 1221, 913, 926]\n",
      "500 [66509, 3977, 2724, 3863, 2657, 4816, 45447, 3624, 329, 597]\n",
      "501 [80350, 60072, 5266, 62644, 72407, 6863, 74624, 71131, 77798, 60649]\n",
      "502 [804, 18, 1173, 1497, 376, 708, 1464, 1639, 733, 6]\n",
      "503 [357, 79091, 89745, 59784, 1210, 81847, 1291, 76093, 2571, 356]\n",
      "504 [2126, 1887, 2025]\n",
      "505 [3093, 1093, 7573, 2100, 2942, 2012, 3675, 1101, 4018, 25891]\n",
      "506 [673, 344, 1391, 376, 2, 780]\n",
      "507 [673, 9, 786, 494, 780, 832, 1356, 671, 1210]\n",
      "508 [455, 316, 380, 500, 34, 440, 150, 593]\n",
      "509 [518, 4167, 4069, 2372, 2710, 674, 4367, 1836, 3882, 7255]\n",
      "510 [358, 433, 2433, 3125, 352, 2112, 211, 1699, 84, 3408]\n",
      "511 [237, 342, 16, 150, 280, 246, 293, 608, 50]\n",
      "512 [6942, 60069, 5064, 1291, 116797, 48780, 8132]\n",
      "513 [344, 339, 349, 593, 356]\n",
      "514 [374, 435, 1091, 1037, 153, 157, 367, 410, 365, 5]\n",
      "515 [2422, 2622, 3275, 1566, 3246, 4886, 59315]\n",
      "516 [64, 1105, 1037, 442, 256, 344, 338, 1064, 5, 9]\n",
      "517 [173, 420, 186, 367, 500, 377, 357]\n",
      "518 [2380, 2381, 518, 2701, 1855, 169, 519, 2385, 3004, 64]\n",
      "519 [216, 8917, 61132, 140265, 97913, 441, 106916, 6711, 51255, 108932]\n",
      "520 [157, 3623, 4370, 5449, 2297, 3566, 6365, 6333, 1393, 3317]\n",
      "521 [1377, 1372, 1909, 1645, 1747, 79132, 471, 2871, 2329, 2324]\n",
      "522 [6503, 8363, 79695, 4718, 1917, 6373, 91628, 45447, 30825, 8529]\n",
      "523 [784, 434, 1917, 2683, 2617, 6365, 2640, 53322, 1573, 5349]\n",
      "524 [1717, 3285, 2485, 481, 2662, 648, 37731, 4239, 32, 64957]\n",
      "525 [173, 126, 3440, 442, 3439, 1372, 1375, 2527, 3745, 3699]\n",
      "526 [8644, 39427]\n",
      "527 [19, 585, 2012, 1101, 1721, 26649, 2915, 1923, 39, 2427]\n",
      "528 [442, 3755, 3698, 2836, 2431, 1687, 1517, 5810, 5401, 1639]\n",
      "529 [2236, 2642, 719, 2950, 674, 1410, 3258, 7158, 1777, 2469]\n",
      "530 [1556, 1438, 1586, 1367, 1416, 1391, 736, 95, 14, 780]\n",
      "531 [2392, 158, 59421, 3948, 1013, 64969, 2706, 61132, 1380, 61361]\n",
      "532 [2628, 3948, 2151, 5349, 1597, 1475, 480, 457, 2028, 7153]\n",
      "533 [2392, 1726, 2642, 3826, 79, 3528, 3156, 1488, 2364, 1295]\n",
      "534 [64, 1769, 3269, 540, 1037, 79, 688, 3064, 2822, 158]\n",
      "535 [160, 208, 204, 586, 104, 329, 288, 165, 590]\n",
      "536 [158, 60, 186, 344, 381, 351, 236, 180, 266, 431]\n",
      "537 [105, 252, 788, 1425, 761, 736, 1608, 7, 329, 802]\n",
      "538 [329, 253, 207, 588, 590, 300, 1, 111, 318]\n",
      "539 [3142, 3418, 1358, 3424, 1270, 608]\n",
      "540 [1125, 318]\n",
      "541 [3354, 3977, 2908, 2693, 2396, 3578, 2692]\n",
      "542 [33681, 5796, 329, 59501, 4366, 5445, 54001, 6377, 68954, 1682]\n",
      "543 [1562, 673, 801, 786, 653, 736, 1460, 1363, 494, 733]\n",
      "544 [4148, 6934, 4874, 5945, 27611, 41285, 69134, 45728, 5673, 2336]\n",
      "545 [2239, 2704, 493, 2069, 34, 1290, 1183, 1885, 2333, 1955]\n",
      "546 [4980, 4370, 231, 25971, 8622, 64957, 272, 1291, 1704, 2692]\n",
      "547 [5061, 108190, 33836, 2088, 52722, 6252, 153, 2262, 60072, 2188]\n",
      "548 [19, 276, 410, 586, 315, 231, 3, 76, 236, 2]\n",
      "549 [743, 3555]\n",
      "550 [1499, 1920, 2616, 208, 1833, 1917, 1377, 736, 748, 2628]\n",
      "551 [419, 126, 637, 135, 484, 196, 421, 788, 586, 1083]\n",
      "552 [155, 165, 10, 377, 357, 589, 356]\n",
      "553 [78469, 4958, 53996, 118696, 81782, 95510, 27611, 98809, 2989, 74789]\n",
      "554 [2471, 3450, 1959, 2029, 1333, 3551, 1240, 2762, 3068, 2324]\n",
      "555 [95, 718, 582, 34, 249, 377, 357, 154, 480, 337]\n",
      "556 [344, 592, 500, 480, 457, 593]\n",
      "557 [6383, 2152, 5481, 56949, 2123, 7293, 2142, 1735, 616, 47124]\n",
      "558 [327, 806, 4024, 3994, 3903, 3798, 3509, 4018, 3163, 4234]\n",
      "559 [1518, 3, 1876, 1485, 986, 991, 1414, 2081, 2355, 349]\n",
      "560 [2986, 1717, 3697, 3623, 1515, 3882, 586, 3157, 1608, 2470]\n",
      "561 [51077, 7366, 153, 45431, 4025, 367, 216, 4974, 1777, 4844]\n",
      "562 [19, 344, 4370, 410, 1676, 5, 586, 7458, 2012, 592]\n",
      "563 [442, 267, 112911, 58306, 62331, 106873, 107314, 110873, 109742, 2944]\n",
      "564 [1389, 2995, 413, 3826, 374, 3689, 2974, 891, 1474, 2266]\n",
      "565 [3186, 480, 1537]\n",
      "566 [3177, 1792, 102125, 59315]\n",
      "567 [924, 1732, 2502, 1258, 7153, 4011, 1206, 4878, 1175]\n",
      "568 [316, 288, 380, 1, 589, 356, 296, 318]\n",
      "569 [2770, 2001, 151, 902, 1393, 919, 915, 2324, 911, 1193]\n",
      "570 [1882, 79293, 78469, 5254, 1047, 4701, 55765, 5218, 122886, 8533]\n",
      "571 [413, 4718, 5872, 1608, 2124, 5400, 4865, 47518]\n",
      "572 [34048, 44022, 56949, 5459, 33162, 7162, 6586, 34435, 56775, 52458]\n",
      "573 [2969, 595, 2355, 480, 1094, 1641, 2871]\n",
      "574 [1562, 5419, 374, 1911, 2338, 208, 60072, 3697, 344, 196]\n",
      "575 [2392, 1113, 2616, 3827, 48, 2521, 3969, 4495, 964, 1009]\n",
      "576 [4453, 4643, 2985, 1036, 1249, 541, 1960, 2571, 1175, 260]\n",
      "577 [8387, 1707, 1920, 1126, 6951, 4673, 48, 434, 4911, 2021]\n",
      "578 [91500, 7154, 3949, 90376, 593, 1198]\n",
      "579 [3991, 91104, 1013, 5015, 4016]\n",
      "580 [2422, 880, 1882, 2027, 673, 3977, 8861, 153, 674, 2378]\n",
      "581 [26700, 2478, 27478, 53125, 66246, 32153, 4753, 46574, 5278, 54768]\n",
      "582 [6593, 2054, 653, 4734, 783, 2294, 2413, 3052, 3477, 1380]\n",
      "583 [99114, 58559, 1198, 2959]\n",
      "584 [8985, 4718, 5254, 74450, 2167, 74946, 58998, 27871, 45722, 6870]\n",
      "585 [3861, 3608, 1129, 1162, 2746, 3751, 3175, 2870, 3349, 3096]\n",
      "586 [1918, 165, 2968, 3386, 6539, 4963, 1957, 2762, 3578, 5952]\n",
      "587 [70846, 4012, 3148, 5013, 4523, 1132, 1380, 199, 8121, 26663]\n",
      "588 [231, 329, 288, 21, 349, 364, 110, 223, 471, 593]\n",
      "589 [204, 442, 344, 485, 592, 329, 380, 349, 590, 150]\n",
      "590 [173, 172, 420, 153, 186, 256, 196, 185, 520, 165]\n",
      "591 [5299, 2406, 5060]\n",
      "592 [3717, 4344, 1371, 736, 3948, 2617, 2990, 3798, 10, 3984]\n",
      "593 [172, 344, 367, 227, 122, 185, 586, 231, 466, 95]\n",
      "594 [2375, 2723, 2706, 2150, 206, 2716, 5060, 3421, 1387, 541]\n",
      "595 [558, 2294, 3549, 1013, 2, 1923, 1566, 917, 3793, 2087]\n",
      "596 [5452, 2389, 2722, 1461, 2378, 1479, 3623, 2805, 1917, 370]\n",
      "597 [2126, 2322, 2015, 2657, 1883, 2528, 1721, 164, 198, 1396]\n",
      "598 [3564, 3238, 2471, 2840, 3388, 4975, 3285, 2702, 3825, 2770]\n",
      "599 [2497, 93326, 5283, 4447, 67734, 2915, 62155, 4246, 49286, 69122]\n",
      "600 [97913, 2081, 68954, 111921, 5618]\n",
      "601 [3243, 59615, 3439, 4148, 72998, 34405, 44191, 58559, 4878]\n",
      "602 [208, 316, 253, 802, 292, 180, 380, 500, 353, 1032]\n",
      "603 [1126, 1377, 1517, 333, 1275, 1573, 500, 1025, 1408, 594]\n",
      "604 [19, 4792, 3552, 524, 3526, 3671]\n",
      "605 [829, 1359, 258, 3264, 609, 3755, 3988, 105, 1592, 216]\n",
      "606 [1405, 2145, 3477, 3210, 3100, 235, 6711, 3089, 3897, 175]\n",
      "607 [2701, 19, 420, 1461, 208, 4975, 485, 317, 2072, 4980]\n",
      "608 [3285, 2585, 1241, 2387, 2628, 3555, 3535, 1841, 2439, 1916]\n",
      "609 [5481, 3822, 5527, 4441, 621, 117, 81, 3649, 1202, 1164]\n",
      "610 [1556, 3863, 2881, 5013, 5015, 34437, 30812, 46976, 71535, 8622]\n",
      "611 [86880, 53322, 2167, 8533, 162542, 150548, 4963, 6539, 260]\n",
      "612 [34048, 1777, 2683, 91500, 62434, 2706, 364, 94959, 223, 40815]\n",
      "613 [1831, 3107, 1321, 8961, 3996, 6650, 4361, 2243, 858]\n",
      "614 [236, 1594, 1013, 500, 2849, 52, 4355, 902, 4835, 3341]\n",
      "615 [58025, 3977, 70336, 103249, 442, 110127, 109187, 3623, 103228, 7454]\n",
      "616 [1409, 494, 1183, 1073, 805, 62, 635, 608, 858]\n",
      "617 [2428, 1717, 2699, 2541, 1991, 2683, 3052, 1125, 357, 3108]\n",
      "618 [1339, 2641, 1446, 3101, 4306, 593, 912, 50, 111]\n",
      "619 [208, 252, 592, 380, 588, 595, 161, 300, 293]\n",
      "620 [65585, 84374, 7444, 4310, 33679, 33615, 94777, 54272, 95167, 8360]\n",
      "621 [1375, 1909, 277, 5568, 253, 2145, 1967, 5780, 8610, 1073]\n",
      "622 [48394, 33794, 2762, 1704, 108979, 1198, 4226]\n",
      "623 [2382, 1681, 2827, 736, 48385, 2683, 31685, 5628, 7438, 26842]\n",
      "624 [1389, 3821, 3764, 413, 3511, 3248, 3146, 435, 4124, 3286]\n",
      "625 [117895, 91500, 72998, 88140, 102993, 104841, 337, 1682, 96821, 5989]\n",
      "626 [3979, 891, 1984, 3354, 2428, 3981, 3977, 2724, 2546, 2600]\n",
      "627 [2710, 3755, 1917, 1391, 7458, 6934, 95, 6953, 587, 2683]\n",
      "628 [48872, 1321, 6870, 86142, 914, 32, 1884, 6502, 5690, 3363]\n",
      "629 [208, 383, 491, 34, 457, 593]\n",
      "630 [2712, 79132, 916, 912]\n",
      "631 [1515, 1422, 1586, 1689, 1625, 1198, 953]\n",
      "632 [1461, 3861, 2948, 2991, 69640, 110, 296]\n",
      "633 [410, 587, 292, 21, 161, 62, 150, 6, 36, 47]\n",
      "634 [1371, 2023, 1663, 1221, 858]\n",
      "635 [1206, 593, 1219, 527]\n",
      "636 [102, 778, 608, 766]\n",
      "637 [24, 524, 750, 1203, 1221]\n",
      "638 [3826, 2478, 1378, 2572, 1188, 1223, 2359]\n",
      "639 [432, 208, 410, 371, 277, 292, 454, 553, 11, 595]\n",
      "640 [74, 708, 140, 1401, 1059, 1476, 1073, 36, 671, 99]\n",
      "641 [64, 1381, 432, 135, 102, 153, 705, 317, 627, 46]\n",
      "642 [1594, 1639, 1597, 906, 457, 549, 1057]\n",
      "643 [2381, 1687, 5541, 260, 50, 858]\n",
      "644 [4, 2188, 2699, 24, 1513, 2606, 2683, 785, 2108, 235]\n",
      "645 [6287, 158, 2054, 6263, 5810, 1380, 2987, 3408, 5816]\n",
      "646 [2701, 1855, 880, 2136, 1911, 2054, 48, 2552, 2014, 379]\n",
      "647 [2280, 2916, 190, 2912, 3011, 2391, 474, 16, 1263, 2010]\n",
      "648 [367, 69784, 586, 3559, 53894, 3052, 74740, 785, 2706, 8464]\n",
      "649 [4, 19, 208, 44, 196, 252, 350, 468, 539, 141]\n",
      "650 [4, 637, 105, 704, 45]\n",
      "651 [765]\n",
      "652 [1562, 1064, 2887, 2600, 378, 3825, 2133, 627, 2374, 2094]\n",
      "653 [569, 1805, 1042, 440, 261, 1682, 150]\n",
      "654 [519, 6287, 3146, 172, 37727, 3269, 6157, 542, 2722, 1037]\n",
      "655 [48385, 2746, 1645, 353, 116397, 4720, 56715, 3039, 588, 3016]\n",
      "656 [2147, 3977, 2724, 2676, 4025, 3752, 3534, 2805, 779, 3051]\n",
      "657 [780, 595, 590, 457, 608, 318]\n",
      "658 [1339, 595, 1358, 314, 2028, 527]\n",
      "659 [153, 367, 736, 748, 113, 24, 282, 92, 380, 648]\n",
      "660 [116823, 106487, 87306, 102125, 98809, 68358, 49272, 108932, 73017, 8970]\n",
      "661 [3552, 2686, 8961, 1103, 1958, 1704, 48516, 527]\n",
      "662 [420, 432, 350, 2, 10, 440, 219, 509, 47]\n",
      "663 [133419, 120799, 135887, 127124, 137595, 134246, 111781, 122882, 122900, 356]\n",
      "664 [87520, 3785, 59615, 4643, 103249, 85131, 4890, 6263, 4148, 95875]\n",
      "665 [3997, 3991, 2720, 3004, 435, 3857, 2421, 3243, 3225, 3977]\n",
      "666 [153, 196, 329, 454, 508, 150, 589, 593, 296]\n",
      "667 [105, 236, 539, 454, 266, 553, 661, 590, 161, 58]\n",
      "668 [2908, 593, 1233, 296, 1221]\n",
      "669 [381, 3219]\n",
      "670 [1183, 590, 32, 110, 1617, 2858]\n",
      "671 [6365, 6268, 3253, 4880, 5445, 5816, 1036, 4306, 1220, 2291]\n"
     ]
    }
   ],
   "source": [
    "# Predicting top-N recommendations for each user\n",
    "# --------------------------------------\n",
    "\n",
    "# Using algo_svd_optimized model to make recommendations\n",
    "predictions = algo_svd_optimized.test(testset, verbose = False)\n",
    "# Return the top-N recommendation for each user \n",
    "top_n = get_top_n(predictions, n = 10)\n",
    "# sorting user in ascending order\n",
    "od = OrderedDict(sorted(top_n.items()))\n",
    "# Print the recommended items for each user\n",
    "for uid, user_ratings in od.items():\n",
    "    print(uid, [iid for (iid, _) in user_ratings])"
   ]
  },
  {
   "cell_type": "code",
   "execution_count": null,
   "metadata": {},
   "outputs": [],
   "source": []
  }
 ],
 "metadata": {
  "colab": {
   "collapsed_sections": [
    "9hczXgBkvOOG",
    "ewHMWerQ2N9T",
    "fBZYy0HavOOH",
    "UOBD03d9vOOH",
    "mR9tzSzTvOOH",
    "JQgjqRnevOOI",
    "0kXJ_iTEvOOI",
    "lHReghdivOOI",
    "hkz4LlTpvOOK",
    "KRFTrsBVvOOK"
   ],
   "name": "Case_Study_Recommendation_Systems_Part_1_v4.ipynb",
   "provenance": []
  },
  "kernelspec": {
   "display_name": "Python 3.10.5 64-bit",
   "language": "python",
   "name": "python3"
  },
  "language_info": {
   "codemirror_mode": {
    "name": "ipython",
    "version": 3
   },
   "file_extension": ".py",
   "mimetype": "text/x-python",
   "name": "python",
   "nbconvert_exporter": "python",
   "pygments_lexer": "ipython3",
   "version": "3.10.5"
  },
  "vscode": {
   "interpreter": {
    "hash": "56b7ddecb5f8b0aea4e22286f801c765f2699cdf65124c981557f68eafdae354"
   }
  }
 },
 "nbformat": 4,
 "nbformat_minor": 1
}
